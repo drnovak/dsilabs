{
 "cells": [
  {
   "cell_type": "code",
   "execution_count": 1,
   "metadata": {
    "collapsed": false
   },
   "outputs": [
    {
     "data": {
      "text/plain": [
       "'/Users/DRN/DSI-CHI-1'"
      ]
     },
     "execution_count": 1,
     "metadata": {},
     "output_type": "execute_result"
    }
   ],
   "source": [
    "import os\n",
    "os.getcwd()"
   ]
  },
  {
   "cell_type": "code",
   "execution_count": 4,
   "metadata": {
    "collapsed": false
   },
   "outputs": [],
   "source": [
    "import pandas as pd\n",
    "%matplotlib inline\n",
    "import matplotlib.pyplot as plt\n",
    "import seaborn as sns"
   ]
  },
  {
   "cell_type": "code",
   "execution_count": 7,
   "metadata": {
    "collapsed": false
   },
   "outputs": [
    {
     "data": {
      "text/plain": [
       "['divvy.csv', 'Iowa_Liquor_Sales.csv']"
      ]
     },
     "execution_count": 7,
     "metadata": {},
     "output_type": "execute_result"
    }
   ],
   "source": [
    "os.listdir('/Users/DRN/datasets/')"
   ]
  },
  {
   "cell_type": "code",
   "execution_count": 8,
   "metadata": {
    "collapsed": false
   },
   "outputs": [
    {
     "name": "stderr",
     "output_type": "stream",
     "text": [
      "/anaconda/anaconda/lib/python2.7/site-packages/IPython/core/interactiveshell.py:2723: DtypeWarning: Columns (5) have mixed types. Specify dtype option on import or set low_memory=False.\n",
      "  interactivity=interactivity, compiler=compiler, result=result)\n"
     ]
    }
   ],
   "source": [
    "df = pd.read_csv('/Users/DRN/datasets/divvy.csv')"
   ]
  },
  {
   "cell_type": "code",
   "execution_count": 11,
   "metadata": {
    "collapsed": false
   },
   "outputs": [
    {
     "data": {
      "text/html": [
       "<div>\n",
       "<table border=\"1\" class=\"dataframe\">\n",
       "  <thead>\n",
       "    <tr style=\"text-align: right;\">\n",
       "      <th></th>\n",
       "      <th>bikeid</th>\n",
       "      <th>birthday</th>\n",
       "      <th>birthyear</th>\n",
       "      <th>from_station_id</th>\n",
       "      <th>from_station_name</th>\n",
       "      <th>gender</th>\n",
       "      <th>starttime</th>\n",
       "      <th>stoptime</th>\n",
       "      <th>to_station_id</th>\n",
       "      <th>to_station_name</th>\n",
       "      <th>trip_id</th>\n",
       "      <th>tripduration</th>\n",
       "      <th>usertype</th>\n",
       "    </tr>\n",
       "  </thead>\n",
       "  <tbody>\n",
       "    <tr>\n",
       "      <th>0</th>\n",
       "      <td>480</td>\n",
       "      <td>NaN</td>\n",
       "      <td>NaN</td>\n",
       "      <td>85</td>\n",
       "      <td>Michigan Ave &amp; Oak St</td>\n",
       "      <td>NaN</td>\n",
       "      <td>2013-06-27 12:11</td>\n",
       "      <td>2013-06-27 12:16</td>\n",
       "      <td>28</td>\n",
       "      <td>Larrabee St &amp; Menomonee St</td>\n",
       "      <td>4118</td>\n",
       "      <td>316</td>\n",
       "      <td>Customer</td>\n",
       "    </tr>\n",
       "    <tr>\n",
       "      <th>1</th>\n",
       "      <td>77</td>\n",
       "      <td>NaN</td>\n",
       "      <td>NaN</td>\n",
       "      <td>32</td>\n",
       "      <td>Racine Ave &amp; Congress Pkwy</td>\n",
       "      <td>NaN</td>\n",
       "      <td>2013-06-27 14:44</td>\n",
       "      <td>2013-06-27 14:45</td>\n",
       "      <td>32</td>\n",
       "      <td>Racine Ave &amp; Congress Pkwy</td>\n",
       "      <td>4275</td>\n",
       "      <td>64</td>\n",
       "      <td>Customer</td>\n",
       "    </tr>\n",
       "    <tr>\n",
       "      <th>2</th>\n",
       "      <td>77</td>\n",
       "      <td>NaN</td>\n",
       "      <td>NaN</td>\n",
       "      <td>32</td>\n",
       "      <td>Racine Ave &amp; Congress Pkwy</td>\n",
       "      <td>NaN</td>\n",
       "      <td>2013-06-27 14:58</td>\n",
       "      <td>2013-06-27 15:05</td>\n",
       "      <td>19</td>\n",
       "      <td>Loomis St &amp; Taylor St</td>\n",
       "      <td>4291</td>\n",
       "      <td>433</td>\n",
       "      <td>Customer</td>\n",
       "    </tr>\n",
       "    <tr>\n",
       "      <th>3</th>\n",
       "      <td>77</td>\n",
       "      <td>NaN</td>\n",
       "      <td>NaN</td>\n",
       "      <td>19</td>\n",
       "      <td>Loomis St &amp; Taylor St</td>\n",
       "      <td>NaN</td>\n",
       "      <td>2013-06-27 15:06</td>\n",
       "      <td>2013-06-27 15:09</td>\n",
       "      <td>19</td>\n",
       "      <td>Loomis St &amp; Taylor St</td>\n",
       "      <td>4316</td>\n",
       "      <td>123</td>\n",
       "      <td>Customer</td>\n",
       "    </tr>\n",
       "    <tr>\n",
       "      <th>4</th>\n",
       "      <td>77</td>\n",
       "      <td>NaN</td>\n",
       "      <td>NaN</td>\n",
       "      <td>19</td>\n",
       "      <td>Loomis St &amp; Taylor St</td>\n",
       "      <td>NaN</td>\n",
       "      <td>2013-06-27 15:13</td>\n",
       "      <td>2013-06-27 15:27</td>\n",
       "      <td>55</td>\n",
       "      <td>Halsted St &amp; James M Rochford St</td>\n",
       "      <td>4342</td>\n",
       "      <td>852</td>\n",
       "      <td>Customer</td>\n",
       "    </tr>\n",
       "  </tbody>\n",
       "</table>\n",
       "</div>"
      ],
      "text/plain": [
       "   bikeid  birthday  birthyear  from_station_id           from_station_name  \\\n",
       "0     480       NaN        NaN               85       Michigan Ave & Oak St   \n",
       "1      77       NaN        NaN               32  Racine Ave & Congress Pkwy   \n",
       "2      77       NaN        NaN               32  Racine Ave & Congress Pkwy   \n",
       "3      77       NaN        NaN               19       Loomis St & Taylor St   \n",
       "4      77       NaN        NaN               19       Loomis St & Taylor St   \n",
       "\n",
       "  gender         starttime          stoptime  to_station_id  \\\n",
       "0    NaN  2013-06-27 12:11  2013-06-27 12:16             28   \n",
       "1    NaN  2013-06-27 14:44  2013-06-27 14:45             32   \n",
       "2    NaN  2013-06-27 14:58  2013-06-27 15:05             19   \n",
       "3    NaN  2013-06-27 15:06  2013-06-27 15:09             19   \n",
       "4    NaN  2013-06-27 15:13  2013-06-27 15:27             55   \n",
       "\n",
       "                    to_station_name  trip_id  tripduration  usertype  \n",
       "0        Larrabee St & Menomonee St     4118           316  Customer  \n",
       "1        Racine Ave & Congress Pkwy     4275            64  Customer  \n",
       "2             Loomis St & Taylor St     4291           433  Customer  \n",
       "3             Loomis St & Taylor St     4316           123  Customer  \n",
       "4  Halsted St & James M Rochford St     4342           852  Customer  "
      ]
     },
     "execution_count": 11,
     "metadata": {},
     "output_type": "execute_result"
    }
   ],
   "source": [
    "df.head(5)"
   ]
  },
  {
   "cell_type": "code",
   "execution_count": 13,
   "metadata": {
    "collapsed": false
   },
   "outputs": [
    {
     "data": {
      "text/plain": [
       "872     2820\n",
       "478     2814\n",
       "267     2757\n",
       "94      2745\n",
       "1329    2739\n",
       "Name: bikeid, dtype: int64"
      ]
     },
     "execution_count": 13,
     "metadata": {},
     "output_type": "execute_result"
    }
   ],
   "source": [
    "df['bikeid'].value_counts().head()"
   ]
  },
  {
   "cell_type": "code",
   "execution_count": 14,
   "metadata": {
    "collapsed": false
   },
   "outputs": [
    {
     "data": {
      "text/plain": [
       "Streeter Dr & Illinois St       137683\n",
       "Lake Shore Dr & Monroe St       124674\n",
       "Clinton St & Washington Blvd    112140\n",
       "Theater on the Lake             108426\n",
       "Michigan Ave & Oak St           101762\n",
       "Name: from_station_name, dtype: int64"
      ]
     },
     "execution_count": 14,
     "metadata": {},
     "output_type": "execute_result"
    }
   ],
   "source": [
    "df['from_station_name'].value_counts().head()"
   ]
  },
  {
   "cell_type": "code",
   "execution_count": 15,
   "metadata": {
    "collapsed": false
   },
   "outputs": [
    {
     "data": {
      "text/plain": [
       "Streeter Dr & Illinois St       164101\n",
       "Lake Shore Dr & Monroe St       122493\n",
       "Theater on the Lake             115330\n",
       "Clinton St & Washington Blvd    110611\n",
       "Millennium Park                 110085\n",
       "Name: to_station_name, dtype: int64"
      ]
     },
     "execution_count": 15,
     "metadata": {},
     "output_type": "execute_result"
    }
   ],
   "source": [
    "df['to_station_name'].value_counts().head()"
   ]
  },
  {
   "cell_type": "code",
   "execution_count": 17,
   "metadata": {
    "collapsed": false
   },
   "outputs": [],
   "source": [
    "departure_arrival = pd.DataFrame(df['from_station_name'].value_counts()).join(df['to_station_name'].value_counts())"
   ]
  },
  {
   "cell_type": "code",
   "execution_count": 18,
   "metadata": {
    "collapsed": false
   },
   "outputs": [
    {
     "data": {
      "text/html": [
       "<div>\n",
       "<table border=\"1\" class=\"dataframe\">\n",
       "  <thead>\n",
       "    <tr style=\"text-align: right;\">\n",
       "      <th></th>\n",
       "      <th>from_station_name</th>\n",
       "      <th>to_station_name</th>\n",
       "    </tr>\n",
       "  </thead>\n",
       "  <tbody>\n",
       "    <tr>\n",
       "      <th>Streeter Dr &amp; Illinois St</th>\n",
       "      <td>137683</td>\n",
       "      <td>164101.0</td>\n",
       "    </tr>\n",
       "    <tr>\n",
       "      <th>Lake Shore Dr &amp; Monroe St</th>\n",
       "      <td>124674</td>\n",
       "      <td>122493.0</td>\n",
       "    </tr>\n",
       "    <tr>\n",
       "      <th>Clinton St &amp; Washington Blvd</th>\n",
       "      <td>112140</td>\n",
       "      <td>110611.0</td>\n",
       "    </tr>\n",
       "    <tr>\n",
       "      <th>Theater on the Lake</th>\n",
       "      <td>108426</td>\n",
       "      <td>115330.0</td>\n",
       "    </tr>\n",
       "    <tr>\n",
       "      <th>Michigan Ave &amp; Oak St</th>\n",
       "      <td>101762</td>\n",
       "      <td>109586.0</td>\n",
       "    </tr>\n",
       "  </tbody>\n",
       "</table>\n",
       "</div>"
      ],
      "text/plain": [
       "                              from_station_name  to_station_name\n",
       "Streeter Dr & Illinois St                137683         164101.0\n",
       "Lake Shore Dr & Monroe St                124674         122493.0\n",
       "Clinton St & Washington Blvd             112140         110611.0\n",
       "Theater on the Lake                      108426         115330.0\n",
       "Michigan Ave & Oak St                    101762         109586.0"
      ]
     },
     "execution_count": 18,
     "metadata": {},
     "output_type": "execute_result"
    }
   ],
   "source": [
    "departure_arrival.head()"
   ]
  },
  {
   "cell_type": "code",
   "execution_count": 19,
   "metadata": {
    "collapsed": true
   },
   "outputs": [],
   "source": [
    "departure_arrival['net_departures'] = departure_arrival['from_station_name'] - departure_arrival['to_station_name']"
   ]
  },
  {
   "cell_type": "code",
   "execution_count": 20,
   "metadata": {
    "collapsed": false
   },
   "outputs": [
    {
     "data": {
      "text/html": [
       "<div>\n",
       "<table border=\"1\" class=\"dataframe\">\n",
       "  <thead>\n",
       "    <tr style=\"text-align: right;\">\n",
       "      <th></th>\n",
       "      <th>from_station_name</th>\n",
       "      <th>to_station_name</th>\n",
       "      <th>net_departures</th>\n",
       "    </tr>\n",
       "  </thead>\n",
       "  <tbody>\n",
       "    <tr>\n",
       "      <th>Columbus Dr &amp; Randolph St</th>\n",
       "      <td>70126</td>\n",
       "      <td>47723.0</td>\n",
       "      <td>22403.0</td>\n",
       "    </tr>\n",
       "    <tr>\n",
       "      <th>Canal St &amp; Monroe St</th>\n",
       "      <td>34496</td>\n",
       "      <td>22198.0</td>\n",
       "      <td>12298.0</td>\n",
       "    </tr>\n",
       "    <tr>\n",
       "      <th>Clinton St &amp; Madison St</th>\n",
       "      <td>71598</td>\n",
       "      <td>63789.0</td>\n",
       "      <td>7809.0</td>\n",
       "    </tr>\n",
       "    <tr>\n",
       "      <th>Stetson Ave &amp; South Water St</th>\n",
       "      <td>31514</td>\n",
       "      <td>23837.0</td>\n",
       "      <td>7677.0</td>\n",
       "    </tr>\n",
       "    <tr>\n",
       "      <th>Desplaines St &amp; Kinzie St</th>\n",
       "      <td>46823</td>\n",
       "      <td>41509.0</td>\n",
       "      <td>5314.0</td>\n",
       "    </tr>\n",
       "  </tbody>\n",
       "</table>\n",
       "</div>"
      ],
      "text/plain": [
       "                              from_station_name  to_station_name  \\\n",
       "Columbus Dr & Randolph St                 70126          47723.0   \n",
       "Canal St & Monroe St                      34496          22198.0   \n",
       "Clinton St & Madison St                   71598          63789.0   \n",
       "Stetson Ave & South Water St              31514          23837.0   \n",
       "Desplaines St & Kinzie St                 46823          41509.0   \n",
       "\n",
       "                              net_departures  \n",
       "Columbus Dr & Randolph St            22403.0  \n",
       "Canal St & Monroe St                 12298.0  \n",
       "Clinton St & Madison St               7809.0  \n",
       "Stetson Ave & South Water St          7677.0  \n",
       "Desplaines St & Kinzie St             5314.0  "
      ]
     },
     "execution_count": 20,
     "metadata": {},
     "output_type": "execute_result"
    }
   ],
   "source": [
    "departure_arrival.sort_values(by='net_departures', ascending=False).head()"
   ]
  },
  {
   "cell_type": "code",
   "execution_count": 21,
   "metadata": {
    "collapsed": false
   },
   "outputs": [
    {
     "data": {
      "text/html": [
       "<div>\n",
       "<table border=\"1\" class=\"dataframe\">\n",
       "  <thead>\n",
       "    <tr style=\"text-align: right;\">\n",
       "      <th></th>\n",
       "      <th>from_station_name</th>\n",
       "      <th>to_station_name</th>\n",
       "      <th>net_departures</th>\n",
       "    </tr>\n",
       "  </thead>\n",
       "  <tbody>\n",
       "    <tr>\n",
       "      <th>Streeter Dr &amp; Illinois St</th>\n",
       "      <td>137683</td>\n",
       "      <td>164101.0</td>\n",
       "      <td>-26418.0</td>\n",
       "    </tr>\n",
       "    <tr>\n",
       "      <th>Lake Shore Dr &amp; North Blvd</th>\n",
       "      <td>90112</td>\n",
       "      <td>101364.0</td>\n",
       "      <td>-11252.0</td>\n",
       "    </tr>\n",
       "    <tr>\n",
       "      <th>Canal St &amp; Madison St</th>\n",
       "      <td>86289</td>\n",
       "      <td>96899.0</td>\n",
       "      <td>-10610.0</td>\n",
       "    </tr>\n",
       "    <tr>\n",
       "      <th>Millennium Park</th>\n",
       "      <td>100545</td>\n",
       "      <td>110085.0</td>\n",
       "      <td>-9540.0</td>\n",
       "    </tr>\n",
       "    <tr>\n",
       "      <th>Michigan Ave &amp; Oak St</th>\n",
       "      <td>101762</td>\n",
       "      <td>109586.0</td>\n",
       "      <td>-7824.0</td>\n",
       "    </tr>\n",
       "  </tbody>\n",
       "</table>\n",
       "</div>"
      ],
      "text/plain": [
       "                            from_station_name  to_station_name  net_departures\n",
       "Streeter Dr & Illinois St              137683         164101.0        -26418.0\n",
       "Lake Shore Dr & North Blvd              90112         101364.0        -11252.0\n",
       "Canal St & Madison St                   86289          96899.0        -10610.0\n",
       "Millennium Park                        100545         110085.0         -9540.0\n",
       "Michigan Ave & Oak St                  101762         109586.0         -7824.0"
      ]
     },
     "execution_count": 21,
     "metadata": {},
     "output_type": "execute_result"
    }
   ],
   "source": [
    "departure_arrival.sort_values(by='net_departures').head()"
   ]
  },
  {
   "cell_type": "code",
   "execution_count": 22,
   "metadata": {
    "collapsed": false
   },
   "outputs": [
    {
     "data": {
      "text/plain": [
       "(array([ 389.,  101.,   47.,   22.,   11.,    2.,    3.,    3.,    1.,    2.]),\n",
       " array([  1.00000000e+00,   1.37692000e+04,   2.75374000e+04,\n",
       "          4.13056000e+04,   5.50738000e+04,   6.88420000e+04,\n",
       "          8.26102000e+04,   9.63784000e+04,   1.10146600e+05,\n",
       "          1.23914800e+05,   1.37683000e+05]),\n",
       " <a list of 10 Patch objects>)"
      ]
     },
     "execution_count": 22,
     "metadata": {},
     "output_type": "execute_result"
    },
    {
     "data": {
      "image/png": "[encoded data removed]",
      "text/plain": [
       "<matplotlib.figure.Figure at 0x1023e47d0>"
      ]
     },
     "metadata": {},
     "output_type": "display_data"
    }
   ],
   "source": [
    "plt.hist(departure_arrival['from_station_name'])"
   ]
  },
  {
   "cell_type": "code",
   "execution_count": 23,
   "metadata": {
    "collapsed": true
   },
   "outputs": [],
   "source": [
    "departure_arrival.fillna(0, inplace=True)"
   ]
  },
  {
   "cell_type": "code",
   "execution_count": 25,
   "metadata": {
    "collapsed": false
   },
   "outputs": [
    {
     "data": {
      "text/plain": [
       "from_station_name    581\n",
       "to_station_name      581\n",
       "net_departures       581\n",
       "dtype: int64"
      ]
     },
     "execution_count": 25,
     "metadata": {},
     "output_type": "execute_result"
    }
   ],
   "source": [
    "departure_arrival.count()"
   ]
  },
  {
   "cell_type": "code",
   "execution_count": null,
   "metadata": {
    "collapsed": true
   },
   "outputs": [],
   "source": [
    "departure_arrival['net_departures'] = departure_arrival['from_station_name'] - departure_arrival['to_station_name']"
   ]
  },
  {
   "cell_type": "code",
   "execution_count": 26,
   "metadata": {
    "collapsed": false
   },
   "outputs": [
    {
     "data": {
      "text/plain": [
       "(array([ 158.,   53.,   32.,   26.,   26.,   14.,   22.,   28.,   19.,\n",
       "          11.,   20.,   12.,    9.,    7.,   14.,    7.,    9.,    9.,\n",
       "           3.,   11.,    8.,    1.,    6.,   10.,    8.,    3.,    3.,\n",
       "           4.,    3.,    1.,    2.,    4.,    3.,    2.,    2.,    4.,\n",
       "           1.,    2.,    0.,    2.,    1.,    1.,    2.,    1.,    2.,\n",
       "           0.,    1.,    2.,    0.,    1.,    1.,    0.,    1.,    0.,\n",
       "           0.,    0.,    0.,    0.,    0.,    0.,    0.,    0.,    1.,\n",
       "           0.,    1.,    1.,    0.,    0.,    0.,    0.,    0.,    0.,\n",
       "           0.,    2.,    0.,    0.,    0.,    0.,    1.,    0.,    0.,\n",
       "           1.,    0.,    0.,    0.,    0.,    0.,    0.,    0.,    0.,\n",
       "           1.,    0.,    0.,    0.,    0.,    0.,    0.,    0.,    0.,    1.]),\n",
       " array([  1.00000000e+00,   1.37782000e+03,   2.75464000e+03,\n",
       "          4.13146000e+03,   5.50828000e+03,   6.88510000e+03,\n",
       "          8.26192000e+03,   9.63874000e+03,   1.10155600e+04,\n",
       "          1.23923800e+04,   1.37692000e+04,   1.51460200e+04,\n",
       "          1.65228400e+04,   1.78996600e+04,   1.92764800e+04,\n",
       "          2.06533000e+04,   2.20301200e+04,   2.34069400e+04,\n",
       "          2.47837600e+04,   2.61605800e+04,   2.75374000e+04,\n",
       "          2.89142200e+04,   3.02910400e+04,   3.16678600e+04,\n",
       "          3.30446800e+04,   3.44215000e+04,   3.57983200e+04,\n",
       "          3.71751400e+04,   3.85519600e+04,   3.99287800e+04,\n",
       "          4.13056000e+04,   4.26824200e+04,   4.40592400e+04,\n",
       "          4.54360600e+04,   4.68128800e+04,   4.81897000e+04,\n",
       "          4.95665200e+04,   5.09433400e+04,   5.23201600e+04,\n",
       "          5.36969800e+04,   5.50738000e+04,   5.64506200e+04,\n",
       "          5.78274400e+04,   5.92042600e+04,   6.05810800e+04,\n",
       "          6.19579000e+04,   6.33347200e+04,   6.47115400e+04,\n",
       "          6.60883600e+04,   6.74651800e+04,   6.88420000e+04,\n",
       "          7.02188200e+04,   7.15956400e+04,   7.29724600e+04,\n",
       "          7.43492800e+04,   7.57261000e+04,   7.71029200e+04,\n",
       "          7.84797400e+04,   7.98565600e+04,   8.12333800e+04,\n",
       "          8.26102000e+04,   8.39870200e+04,   8.53638400e+04,\n",
       "          8.67406600e+04,   8.81174800e+04,   8.94943000e+04,\n",
       "          9.08711200e+04,   9.22479400e+04,   9.36247600e+04,\n",
       "          9.50015800e+04,   9.63784000e+04,   9.77552200e+04,\n",
       "          9.91320400e+04,   1.00508860e+05,   1.01885680e+05,\n",
       "          1.03262500e+05,   1.04639320e+05,   1.06016140e+05,\n",
       "          1.07392960e+05,   1.08769780e+05,   1.10146600e+05,\n",
       "          1.11523420e+05,   1.12900240e+05,   1.14277060e+05,\n",
       "          1.15653880e+05,   1.17030700e+05,   1.18407520e+05,\n",
       "          1.19784340e+05,   1.21161160e+05,   1.22537980e+05,\n",
       "          1.23914800e+05,   1.25291620e+05,   1.26668440e+05,\n",
       "          1.28045260e+05,   1.29422080e+05,   1.30798900e+05,\n",
       "          1.32175720e+05,   1.33552540e+05,   1.34929360e+05,\n",
       "          1.36306180e+05,   1.37683000e+05]),\n",
       " <a list of 100 Patch objects>)"
      ]
     },
     "execution_count": 26,
     "metadata": {},
     "output_type": "execute_result"
    },
    {
     "data": {
      "image/png": "[encoded data removed]",
      "text/plain": [
       "<matplotlib.figure.Figure at 0x117933750>"
      ]
     },
     "metadata": {},
     "output_type": "display_data"
    }
   ],
   "source": [
    "plt.hist(departure_arrival['from_station_name'], bins=100)"
   ]
  },
  {
   "cell_type": "code",
   "execution_count": 27,
   "metadata": {
    "collapsed": false
   },
   "outputs": [
    {
     "data": {
      "text/html": [
       "<div>\n",
       "<table border=\"1\" class=\"dataframe\">\n",
       "  <thead>\n",
       "    <tr style=\"text-align: right;\">\n",
       "      <th></th>\n",
       "      <th>from_station_name</th>\n",
       "      <th>to_station_name</th>\n",
       "      <th>net_departures</th>\n",
       "    </tr>\n",
       "  </thead>\n",
       "  <tbody>\n",
       "    <tr>\n",
       "      <th>Elizabeth St &amp; 47th St</th>\n",
       "      <td>1</td>\n",
       "      <td>0.0</td>\n",
       "      <td>0.0</td>\n",
       "    </tr>\n",
       "    <tr>\n",
       "      <th>Normal Ave &amp; 72nd St</th>\n",
       "      <td>1</td>\n",
       "      <td>1.0</td>\n",
       "      <td>0.0</td>\n",
       "    </tr>\n",
       "    <tr>\n",
       "      <th>Central St Metra</th>\n",
       "      <td>1</td>\n",
       "      <td>1.0</td>\n",
       "      <td>0.0</td>\n",
       "    </tr>\n",
       "    <tr>\n",
       "      <th>Racine Ave &amp; Garfield Blvd</th>\n",
       "      <td>1</td>\n",
       "      <td>1.0</td>\n",
       "      <td>0.0</td>\n",
       "    </tr>\n",
       "    <tr>\n",
       "      <th>Ashland Ave &amp; 69th St</th>\n",
       "      <td>1</td>\n",
       "      <td>3.0</td>\n",
       "      <td>-2.0</td>\n",
       "    </tr>\n",
       "  </tbody>\n",
       "</table>\n",
       "</div>"
      ],
      "text/plain": [
       "                            from_station_name  to_station_name  net_departures\n",
       "Elizabeth St & 47th St                      1              0.0             0.0\n",
       "Normal Ave & 72nd St                        1              1.0             0.0\n",
       "Central St Metra                            1              1.0             0.0\n",
       "Racine Ave & Garfield Blvd                  1              1.0             0.0\n",
       "Ashland Ave & 69th St                       1              3.0            -2.0"
      ]
     },
     "execution_count": 27,
     "metadata": {},
     "output_type": "execute_result"
    }
   ],
   "source": [
    "departure_arrival.sort_values(by='from_station_name').head()"
   ]
  },
  {
   "cell_type": "code",
   "execution_count": 28,
   "metadata": {
    "collapsed": false
   },
   "outputs": [
    {
     "data": {
      "text/plain": [
       "(array([ 164.,   62.,   31.,   39.,   13.,   26.,   32.,   19.,   23.,\n",
       "          12.,   10.,   12.,   12.,   12.,    7.,    9.,    7.,    9.,\n",
       "           3.,   13.,   10.,    3.,    5.,    1.,    2.,    5.,    4.,\n",
       "           2.,    2.,    5.,    3.,    1.,    1.,    1.,    3.,    1.,\n",
       "           2.,    1.,    2.,    1.,    1.,    0.,    1.,    0.,    0.,\n",
       "           0.,    0.,    0.,    0.,    0.,    0.,    0.,    1.,    0.,\n",
       "           0.,    0.,    0.,    0.,    0.,    1.,    0.,    1.,    0.,\n",
       "           0.,    0.,    0.,    1.,    2.,    0.,    0.,    1.,    0.,\n",
       "           0.,    0.,    1.,    0.,    0.,    0.,    0.,    0.,    0.,\n",
       "           0.,    0.,    0.,    0.,    0.,    0.,    0.,    0.,    0.,\n",
       "           0.,    0.,    0.,    0.,    0.,    0.,    0.,    0.,    0.,    1.]),\n",
       " array([      0.  ,    1641.01,    3282.02,    4923.03,    6564.04,\n",
       "           8205.05,    9846.06,   11487.07,   13128.08,   14769.09,\n",
       "          16410.1 ,   18051.11,   19692.12,   21333.13,   22974.14,\n",
       "          24615.15,   26256.16,   27897.17,   29538.18,   31179.19,\n",
       "          32820.2 ,   34461.21,   36102.22,   37743.23,   39384.24,\n",
       "          41025.25,   42666.26,   44307.27,   45948.28,   47589.29,\n",
       "          49230.3 ,   50871.31,   52512.32,   54153.33,   55794.34,\n",
       "          57435.35,   59076.36,   60717.37,   62358.38,   63999.39,\n",
       "          65640.4 ,   67281.41,   68922.42,   70563.43,   72204.44,\n",
       "          73845.45,   75486.46,   77127.47,   78768.48,   80409.49,\n",
       "          82050.5 ,   83691.51,   85332.52,   86973.53,   88614.54,\n",
       "          90255.55,   91896.56,   93537.57,   95178.58,   96819.59,\n",
       "          98460.6 ,  100101.61,  101742.62,  103383.63,  105024.64,\n",
       "         106665.65,  108306.66,  109947.67,  111588.68,  113229.69,\n",
       "         114870.7 ,  116511.71,  118152.72,  119793.73,  121434.74,\n",
       "         123075.75,  124716.76,  126357.77,  127998.78,  129639.79,\n",
       "         131280.8 ,  132921.81,  134562.82,  136203.83,  137844.84,\n",
       "         139485.85,  141126.86,  142767.87,  144408.88,  146049.89,\n",
       "         147690.9 ,  149331.91,  150972.92,  152613.93,  154254.94,\n",
       "         155895.95,  157536.96,  159177.97,  160818.98,  162459.99,  164101.  ]),\n",
       " <a list of 100 Patch objects>)"
      ]
     },
     "execution_count": 28,
     "metadata": {},
     "output_type": "execute_result"
    },
    {
     "data": {
      "image/png": "[encoded data removed]",
      "text/plain": [
       "<matplotlib.figure.Figure at 0x118029210>"
      ]
     },
     "metadata": {},
     "output_type": "display_data"
    }
   ],
   "source": [
    "plt.hist(departure_arrival['to_station_name'], bins=100)"
   ]
  },
  {
   "cell_type": "code",
   "execution_count": 29,
   "metadata": {
    "collapsed": false
   },
   "outputs": [
    {
     "data": {
      "text/html": [
       "<div>\n",
       "<table border=\"1\" class=\"dataframe\">\n",
       "  <thead>\n",
       "    <tr style=\"text-align: right;\">\n",
       "      <th></th>\n",
       "      <th>from_station_name</th>\n",
       "      <th>to_station_name</th>\n",
       "      <th>net_departures</th>\n",
       "    </tr>\n",
       "  </thead>\n",
       "  <tbody>\n",
       "    <tr>\n",
       "      <th>Elizabeth St &amp; 47th St</th>\n",
       "      <td>1</td>\n",
       "      <td>0.0</td>\n",
       "      <td>0.0</td>\n",
       "    </tr>\n",
       "    <tr>\n",
       "      <th>Marion St &amp; South Blvd</th>\n",
       "      <td>3</td>\n",
       "      <td>0.0</td>\n",
       "      <td>0.0</td>\n",
       "    </tr>\n",
       "    <tr>\n",
       "      <th>State St &amp; 76th St</th>\n",
       "      <td>1</td>\n",
       "      <td>1.0</td>\n",
       "      <td>0.0</td>\n",
       "    </tr>\n",
       "    <tr>\n",
       "      <th>Throop St &amp; 52nd St</th>\n",
       "      <td>1</td>\n",
       "      <td>1.0</td>\n",
       "      <td>0.0</td>\n",
       "    </tr>\n",
       "    <tr>\n",
       "      <th>Racine Ave &amp; Garfield Blvd</th>\n",
       "      <td>1</td>\n",
       "      <td>1.0</td>\n",
       "      <td>0.0</td>\n",
       "    </tr>\n",
       "  </tbody>\n",
       "</table>\n",
       "</div>"
      ],
      "text/plain": [
       "                            from_station_name  to_station_name  net_departures\n",
       "Elizabeth St & 47th St                      1              0.0             0.0\n",
       "Marion St & South Blvd                      3              0.0             0.0\n",
       "State St & 76th St                          1              1.0             0.0\n",
       "Throop St & 52nd St                         1              1.0             0.0\n",
       "Racine Ave & Garfield Blvd                  1              1.0             0.0"
      ]
     },
     "execution_count": 29,
     "metadata": {},
     "output_type": "execute_result"
    }
   ],
   "source": [
    "departure_arrival.sort_values(by='to_station_name').head()"
   ]
  },
  {
   "cell_type": "code",
   "execution_count": 33,
   "metadata": {
    "collapsed": false
   },
   "outputs": [
    {
     "data": {
      "text/plain": [
       "(array([   1.,    0.,    0.,    0.,    0.,    0.,    0.,    0.,    0.,\n",
       "           0.,    0.,    0.,    0.,    0.,    0.,    0.,    0.,    0.,\n",
       "           0.,    0.,    0.,    0.,    0.,    0.,    0.,    0.,    0.,\n",
       "           0.,    0.,    0.,    0.,    1.,    1.,    0.,    1.,    0.,\n",
       "           0.,    0.,    1.,    1.,    0.,    0.,    1.,    0.,    1.,\n",
       "           2.,    1.,    1.,    3.,    8.,    7.,   24.,   29.,  135.,\n",
       "         255.,   52.,   14.,   10.,   12.,    6.,    1.,    3.,    2.,\n",
       "           3.,    1.,    0.,    0.,    0.,    0.,    1.,    1.,    0.,\n",
       "           0.,    0.,    0.,    0.,    0.,    0.,    0.,    1.,    0.,\n",
       "           0.,    0.,    0.,    0.,    0.,    0.,    0.,    0.,    0.,\n",
       "           0.,    0.,    0.,    0.,    0.,    0.,    0.,    0.,    0.,    1.]),\n",
       " array([-26418.  , -25929.79, -25441.58, -24953.37, -24465.16, -23976.95,\n",
       "        -23488.74, -23000.53, -22512.32, -22024.11, -21535.9 , -21047.69,\n",
       "        -20559.48, -20071.27, -19583.06, -19094.85, -18606.64, -18118.43,\n",
       "        -17630.22, -17142.01, -16653.8 , -16165.59, -15677.38, -15189.17,\n",
       "        -14700.96, -14212.75, -13724.54, -13236.33, -12748.12, -12259.91,\n",
       "        -11771.7 , -11283.49, -10795.28, -10307.07,  -9818.86,  -9330.65,\n",
       "         -8842.44,  -8354.23,  -7866.02,  -7377.81,  -6889.6 ,  -6401.39,\n",
       "         -5913.18,  -5424.97,  -4936.76,  -4448.55,  -3960.34,  -3472.13,\n",
       "         -2983.92,  -2495.71,  -2007.5 ,  -1519.29,  -1031.08,   -542.87,\n",
       "           -54.66,    433.55,    921.76,   1409.97,   1898.18,   2386.39,\n",
       "          2874.6 ,   3362.81,   3851.02,   4339.23,   4827.44,   5315.65,\n",
       "          5803.86,   6292.07,   6780.28,   7268.49,   7756.7 ,   8244.91,\n",
       "          8733.12,   9221.33,   9709.54,  10197.75,  10685.96,  11174.17,\n",
       "         11662.38,  12150.59,  12638.8 ,  13127.01,  13615.22,  14103.43,\n",
       "         14591.64,  15079.85,  15568.06,  16056.27,  16544.48,  17032.69,\n",
       "         17520.9 ,  18009.11,  18497.32,  18985.53,  19473.74,  19961.95,\n",
       "         20450.16,  20938.37,  21426.58,  21914.79,  22403.  ]),\n",
       " <a list of 100 Patch objects>)"
      ]
     },
     "execution_count": 33,
     "metadata": {},
     "output_type": "execute_result"
    },
    {
     "data": {
      "image/png": "[encoded data removed]",
      "text/plain": [
       "<matplotlib.figure.Figure at 0x11843df90>"
      ]
     },
     "metadata": {},
     "output_type": "display_data"
    }
   ],
   "source": [
    "plt.hist(departure_arrival['net_departures'], bins=100)"
   ]
  },
  {
   "cell_type": "code",
   "execution_count": 34,
   "metadata": {
    "collapsed": false
   },
   "outputs": [
    {
     "data": {
      "text/plain": [
       "count      581.000000\n",
       "mean        -0.005164\n",
       "std       2082.847602\n",
       "min     -26418.000000\n",
       "25%       -217.000000\n",
       "50%          0.000000\n",
       "75%        222.000000\n",
       "max      22403.000000\n",
       "Name: net_departures, dtype: float64"
      ]
     },
     "execution_count": 34,
     "metadata": {},
     "output_type": "execute_result"
    }
   ],
   "source": [
    "departure_arrival['net_departures'].describe()"
   ]
  },
  {
   "cell_type": "code",
   "execution_count": 35,
   "metadata": {
    "collapsed": false
   },
   "outputs": [
    {
     "data": {
      "text/plain": [
       "Index([u'bikeid', u'birthday', u'birthyear', u'from_station_id',\n",
       "       u'from_station_name', u'gender', u'starttime', u'stoptime',\n",
       "       u'to_station_id', u'to_station_name', u'trip_id', u'tripduration',\n",
       "       u'usertype'],\n",
       "      dtype='object')"
      ]
     },
     "execution_count": 35,
     "metadata": {},
     "output_type": "execute_result"
    }
   ],
   "source": [
    "df.columns"
   ]
  },
  {
   "cell_type": "code",
   "execution_count": 36,
   "metadata": {
    "collapsed": false
   },
   "outputs": [
    {
     "data": {
      "text/plain": [
       "count    7.867601e+06\n",
       "mean     1.035279e+03\n",
       "std      2.063022e+03\n",
       "min      6.000000e+01\n",
       "25%      4.220000e+02\n",
       "50%      7.300000e+02\n",
       "75%      1.216000e+03\n",
       "max      8.639900e+04\n",
       "Name: tripduration, dtype: float64"
      ]
     },
     "execution_count": 36,
     "metadata": {},
     "output_type": "execute_result"
    }
   ],
   "source": [
    "df['tripduration'].describe()"
   ]
  },
  {
   "cell_type": "code",
   "execution_count": 40,
   "metadata": {
    "collapsed": false
   },
   "outputs": [
    {
     "data": {
      "text/plain": [
       "0"
      ]
     },
     "execution_count": 40,
     "metadata": {},
     "output_type": "execute_result"
    }
   ],
   "source": [
    "df['tripduration'].isnull().sum()"
   ]
  },
  {
   "cell_type": "code",
   "execution_count": 41,
   "metadata": {
    "collapsed": false
   },
   "outputs": [
    {
     "data": {
      "text/plain": [
       "False"
      ]
     },
     "execution_count": 41,
     "metadata": {},
     "output_type": "execute_result"
    }
   ],
   "source": [
    "df['tripduration'].isnull().any()"
   ]
  },
  {
   "cell_type": "code",
   "execution_count": 43,
   "metadata": {
    "collapsed": false
   },
   "outputs": [
    {
     "data": {
      "text/plain": [
       "(array([  4.84321500e+06,   2.29507500e+06,   4.15107000e+05,\n",
       "          1.29172000e+05,   5.97390000e+04,   3.51950000e+04,\n",
       "          2.22590000e+04,   1.51910000e+04,   1.03980000e+04,\n",
       "          7.24800000e+03,   5.37500000e+03,   4.15900000e+03,\n",
       "          3.13500000e+03,   2.36100000e+03,   1.96400000e+03,\n",
       "          1.67000000e+03,   1.31800000e+03,   1.11600000e+03,\n",
       "          9.26000000e+02,   7.65000000e+02,   6.08000000e+02,\n",
       "          5.99000000e+02,   5.10000000e+02,   4.59000000e+02,\n",
       "          3.82000000e+02,   3.67000000e+02,   3.12000000e+02,\n",
       "          2.69000000e+02,   2.77000000e+02,   2.18000000e+02,\n",
       "          2.08000000e+02,   2.07000000e+02,   1.92000000e+02,\n",
       "          1.69000000e+02,   1.89000000e+02,   1.64000000e+02,\n",
       "          1.69000000e+02,   1.90000000e+02,   1.69000000e+02,\n",
       "          1.53000000e+02,   1.35000000e+02,   1.43000000e+02,\n",
       "          1.38000000e+02,   1.41000000e+02,   1.27000000e+02,\n",
       "          1.38000000e+02,   1.31000000e+02,   1.09000000e+02,\n",
       "          1.21000000e+02,   1.38000000e+02,   1.29000000e+02,\n",
       "          1.24000000e+02,   1.00000000e+02,   1.27000000e+02,\n",
       "          1.38000000e+02,   1.57000000e+02,   1.48000000e+02,\n",
       "          1.29000000e+02,   1.34000000e+02,   1.45000000e+02,\n",
       "          1.35000000e+02,   1.14000000e+02,   1.11000000e+02,\n",
       "          1.08000000e+02,   1.14000000e+02,   9.40000000e+01,\n",
       "          1.19000000e+02,   1.13000000e+02,   9.30000000e+01,\n",
       "          1.11000000e+02,   9.50000000e+01,   1.14000000e+02,\n",
       "          9.10000000e+01,   1.00000000e+02,   1.01000000e+02,\n",
       "          8.90000000e+01,   8.40000000e+01,   8.60000000e+01,\n",
       "          5.30000000e+01,   9.10000000e+01,   8.80000000e+01,\n",
       "          1.08000000e+02,   8.20000000e+01,   8.20000000e+01,\n",
       "          7.80000000e+01,   7.60000000e+01,   8.10000000e+01,\n",
       "          8.20000000e+01,   9.40000000e+01,   6.70000000e+01,\n",
       "          8.40000000e+01,   7.30000000e+01,   8.30000000e+01,\n",
       "          9.70000000e+01,   8.80000000e+01,   9.30000000e+01,\n",
       "          7.90000000e+01,   1.01000000e+02,   1.13000000e+02,\n",
       "          8.50000000e+01]),\n",
       " array([  6.00000000e+01,   9.23390000e+02,   1.78678000e+03,\n",
       "          2.65017000e+03,   3.51356000e+03,   4.37695000e+03,\n",
       "          5.24034000e+03,   6.10373000e+03,   6.96712000e+03,\n",
       "          7.83051000e+03,   8.69390000e+03,   9.55729000e+03,\n",
       "          1.04206800e+04,   1.12840700e+04,   1.21474600e+04,\n",
       "          1.30108500e+04,   1.38742400e+04,   1.47376300e+04,\n",
       "          1.56010200e+04,   1.64644100e+04,   1.73278000e+04,\n",
       "          1.81911900e+04,   1.90545800e+04,   1.99179700e+04,\n",
       "          2.07813600e+04,   2.16447500e+04,   2.25081400e+04,\n",
       "          2.33715300e+04,   2.42349200e+04,   2.50983100e+04,\n",
       "          2.59617000e+04,   2.68250900e+04,   2.76884800e+04,\n",
       "          2.85518700e+04,   2.94152600e+04,   3.02786500e+04,\n",
       "          3.11420400e+04,   3.20054300e+04,   3.28688200e+04,\n",
       "          3.37322100e+04,   3.45956000e+04,   3.54589900e+04,\n",
       "          3.63223800e+04,   3.71857700e+04,   3.80491600e+04,\n",
       "          3.89125500e+04,   3.97759400e+04,   4.06393300e+04,\n",
       "          4.15027200e+04,   4.23661100e+04,   4.32295000e+04,\n",
       "          4.40928900e+04,   4.49562800e+04,   4.58196700e+04,\n",
       "          4.66830600e+04,   4.75464500e+04,   4.84098400e+04,\n",
       "          4.92732300e+04,   5.01366200e+04,   5.10000100e+04,\n",
       "          5.18634000e+04,   5.27267900e+04,   5.35901800e+04,\n",
       "          5.44535700e+04,   5.53169600e+04,   5.61803500e+04,\n",
       "          5.70437400e+04,   5.79071300e+04,   5.87705200e+04,\n",
       "          5.96339100e+04,   6.04973000e+04,   6.13606900e+04,\n",
       "          6.22240800e+04,   6.30874700e+04,   6.39508600e+04,\n",
       "          6.48142500e+04,   6.56776400e+04,   6.65410300e+04,\n",
       "          6.74044200e+04,   6.82678100e+04,   6.91312000e+04,\n",
       "          6.99945900e+04,   7.08579800e+04,   7.17213700e+04,\n",
       "          7.25847600e+04,   7.34481500e+04,   7.43115400e+04,\n",
       "          7.51749300e+04,   7.60383200e+04,   7.69017100e+04,\n",
       "          7.77651000e+04,   7.86284900e+04,   7.94918800e+04,\n",
       "          8.03552700e+04,   8.12186600e+04,   8.20820500e+04,\n",
       "          8.29454400e+04,   8.38088300e+04,   8.46722200e+04,\n",
       "          8.55356100e+04,   8.63990000e+04]),\n",
       " <a list of 100 Patch objects>)"
      ]
     },
     "execution_count": 43,
     "metadata": {},
     "output_type": "execute_result"
    },
    {
     "data": {
      "image/png": "[encoded data removed]",
      "text/plain": [
       "<matplotlib.figure.Figure at 0x151db38d0>"
      ]
     },
     "metadata": {},
     "output_type": "display_data"
    }
   ],
   "source": [
    "plt.hist(df['tripduration'], bins=100)"
   ]
  },
  {
   "cell_type": "code",
   "execution_count": 44,
   "metadata": {
    "collapsed": false
   },
   "outputs": [
    {
     "data": {
      "text/plain": [
       "(0, 1800)"
      ]
     },
     "execution_count": 44,
     "metadata": {},
     "output_type": "execute_result"
    },
    {
     "data": {
      "image/png": "[encoded data removed]",
      "text/plain": [
       "<matplotlib.figure.Figure at 0x11aba5c90>"
      ]
     },
     "metadata": {},
     "output_type": "display_data"
    }
   ],
   "source": [
    "plt.hist(df['tripduration'], bins=100)\n",
    "plt.xlim(0, 1800)"
   ]
  },
  {
   "cell_type": "code",
   "execution_count": null,
   "metadata": {
    "collapsed": true
   },
   "outputs": [],
   "source": [
    "plt.hist(df['tripduration'], bins=100)\n",
    "plt.xlim(0, 1800)"
   ]
  },
  {
   "cell_type": "code",
   "execution_count": 45,
   "metadata": {
    "collapsed": false
   },
   "outputs": [
    {
     "data": {
      "text/plain": [
       "0           316\n",
       "1            64\n",
       "2           433\n",
       "3           123\n",
       "4           852\n",
       "6          1094\n",
       "7          1020\n",
       "9           653\n",
       "10         1738\n",
       "12         1712\n",
       "13          996\n",
       "14          818\n",
       "16          730\n",
       "17         1292\n",
       "18         1511\n",
       "19         1512\n",
       "20         1125\n",
       "21          964\n",
       "22          972\n",
       "23          977\n",
       "26         1758\n",
       "27          730\n",
       "30         1117\n",
       "31          980\n",
       "32         1642\n",
       "35          423\n",
       "38          944\n",
       "39         1656\n",
       "40          736\n",
       "41          223\n",
       "           ... \n",
       "7867571     871\n",
       "7867572    1698\n",
       "7867573     522\n",
       "7867574    1320\n",
       "7867575    1335\n",
       "7867576    1707\n",
       "7867577     469\n",
       "7867578    1254\n",
       "7867579    1178\n",
       "7867580     404\n",
       "7867581    1652\n",
       "7867582    1322\n",
       "7867583    1342\n",
       "7867584     423\n",
       "7867585     117\n",
       "7867586     372\n",
       "7867587     381\n",
       "7867588     282\n",
       "7867589     253\n",
       "7867590     609\n",
       "7867591    1540\n",
       "7867592    1613\n",
       "7867593     721\n",
       "7867594     704\n",
       "7867595     590\n",
       "7867596     484\n",
       "7867597     512\n",
       "7867598     744\n",
       "7867599     615\n",
       "7867600     508\n",
       "Name: tripduration, dtype: int64"
      ]
     },
     "execution_count": 45,
     "metadata": {},
     "output_type": "execute_result"
    }
   ],
   "source": [
    "df[(df['tripduration'] <= 1800.0)]['tripduration']"
   ]
  },
  {
   "cell_type": "code",
   "execution_count": 46,
   "metadata": {
    "collapsed": false
   },
   "outputs": [
    {
     "data": {
      "text/plain": [
       "(array([  13044.,   15049.,   25822.,   37343.,   49667.,   67006.,\n",
       "          76123.,   93060.,   97456.,  105284.,  118877.,  118166.,\n",
       "         130365.,  125873.,  127730.,  135669.,  129926.,  136540.,\n",
       "         128147.,  127271.,  133963.,  125199.,  130722.,  122180.,\n",
       "         120388.,  125586.,  115859.,  120413.,  111503.,  109629.,\n",
       "         113356.,  104342.,  108486.,   99805.,   97779.,  101538.,\n",
       "          93661.,   96684.,   89465.,   87536.,   90553.,   83489.,\n",
       "          86743.,   80276.,   79109.,   82147.,   75975.,   78639.,\n",
       "          73350.,   71844.,   75019.,   68821.,   71854.,   66347.,\n",
       "          65063.,   67860.,   62754.,   65043.,   60607.,   59475.,\n",
       "          62269.,   57813.,   59945.,   55568.,   55182.,   56438.,\n",
       "          52525.,   54895.,   50765.,   50007.,   52298.,   48735.,\n",
       "          50107.,   46550.,   45585.,   47460.,   43691.,   45364.,\n",
       "          41547.,   40744.,   42132.,   38598.,   40008.,   36556.,\n",
       "          35848.,   36040.,   33133.,   34042.,   30984.,   30074.,\n",
       "          30787.,   27842.,   28562.,   25903.,   24740.,   25123.,\n",
       "          22122.,   22353.,   19934.,   20090.]),\n",
       " array([   60. ,    77.4,    94.8,   112.2,   129.6,   147. ,   164.4,\n",
       "          181.8,   199.2,   216.6,   234. ,   251.4,   268.8,   286.2,\n",
       "          303.6,   321. ,   338.4,   355.8,   373.2,   390.6,   408. ,\n",
       "          425.4,   442.8,   460.2,   477.6,   495. ,   512.4,   529.8,\n",
       "          547.2,   564.6,   582. ,   599.4,   616.8,   634.2,   651.6,\n",
       "          669. ,   686.4,   703.8,   721.2,   738.6,   756. ,   773.4,\n",
       "          790.8,   808.2,   825.6,   843. ,   860.4,   877.8,   895.2,\n",
       "          912.6,   930. ,   947.4,   964.8,   982.2,   999.6,  1017. ,\n",
       "         1034.4,  1051.8,  1069.2,  1086.6,  1104. ,  1121.4,  1138.8,\n",
       "         1156.2,  1173.6,  1191. ,  1208.4,  1225.8,  1243.2,  1260.6,\n",
       "         1278. ,  1295.4,  1312.8,  1330.2,  1347.6,  1365. ,  1382.4,\n",
       "         1399.8,  1417.2,  1434.6,  1452. ,  1469.4,  1486.8,  1504.2,\n",
       "         1521.6,  1539. ,  1556.4,  1573.8,  1591.2,  1608.6,  1626. ,\n",
       "         1643.4,  1660.8,  1678.2,  1695.6,  1713. ,  1730.4,  1747.8,\n",
       "         1765.2,  1782.6,  1800. ]),\n",
       " <a list of 100 Patch objects>)"
      ]
     },
     "execution_count": 46,
     "metadata": {},
     "output_type": "execute_result"
    },
    {
     "data": {
      "image/png": "[encoded data removed]",
      "text/plain": [
       "<matplotlib.figure.Figure at 0x11ad1b450>"
      ]
     },
     "metadata": {},
     "output_type": "display_data"
    }
   ],
   "source": [
    "plt.hist(df[(df['tripduration'] <= 1800.0)]['tripduration'], bins=100)"
   ]
  },
  {
   "cell_type": "code",
   "execution_count": 50,
   "metadata": {
    "collapsed": false
   },
   "outputs": [
    {
     "data": {
      "text/plain": [
       "(array([      0.,       0.,       0.,    8761.,   14203.,   22559.,\n",
       "          35809.,   49983.,   64302.,   78823.,   91694.,  102580.,\n",
       "         111140.,  118877.,  125463.,  130320.,  133743.,  135044.,\n",
       "         136272.,  137197.,  136403.,  135523.,  134428.,  133360.,\n",
       "         131948.,  130493.,  128769.,  126404.,  124065.,  121629.,\n",
       "         118684.,  116624.,  114650.,  111471.,  108969.,  106218.,\n",
       "         104180.,  101914.,   99175.,   97167.,   95006.,   92662.,\n",
       "          90553.,   88382.,   86620.,   84778.,   83634.,   81798.,\n",
       "          80103.,   78493.,   77127.,   75820.,   74359.,   72187.,\n",
       "          71507.,   69601.,   68239.,   67340.,   65509.,   64585.,\n",
       "          63313.,   62746.,   61697.,   59987.,   59386.,   58454.,\n",
       "          56596.,   55742.,   54956.,   53895.,   52968.,   52298.,\n",
       "          51593.,   49994.,   49233.,   48104.,   47167.,   46153.,\n",
       "          45149.,   43666.,   42903.,   41314.,   40917.,   39596.,\n",
       "          38322.,   36958.,   35499.,   34631.,   33242.,   32222.,\n",
       "          31173.,   29845.,   28796.,   27757.,   26512.,   25288.,\n",
       "          23683.,   22451.,   21288.,   21198.]),\n",
       " array([    0.,    18.,    36.,    54.,    72.,    90.,   108.,   126.,\n",
       "          144.,   162.,   180.,   198.,   216.,   234.,   252.,   270.,\n",
       "          288.,   306.,   324.,   342.,   360.,   378.,   396.,   414.,\n",
       "          432.,   450.,   468.,   486.,   504.,   522.,   540.,   558.,\n",
       "          576.,   594.,   612.,   630.,   648.,   666.,   684.,   702.,\n",
       "          720.,   738.,   756.,   774.,   792.,   810.,   828.,   846.,\n",
       "          864.,   882.,   900.,   918.,   936.,   954.,   972.,   990.,\n",
       "         1008.,  1026.,  1044.,  1062.,  1080.,  1098.,  1116.,  1134.,\n",
       "         1152.,  1170.,  1188.,  1206.,  1224.,  1242.,  1260.,  1278.,\n",
       "         1296.,  1314.,  1332.,  1350.,  1368.,  1386.,  1404.,  1422.,\n",
       "         1440.,  1458.,  1476.,  1494.,  1512.,  1530.,  1548.,  1566.,\n",
       "         1584.,  1602.,  1620.,  1638.,  1656.,  1674.,  1692.,  1710.,\n",
       "         1728.,  1746.,  1764.,  1782.,  1800.]),\n",
       " <a list of 100 Patch objects>)"
      ]
     },
     "execution_count": 50,
     "metadata": {},
     "output_type": "execute_result"
    },
    {
     "data": {
      "image/png": "[encoded data removed]",
      "text/plain": [
       "<matplotlib.figure.Figure at 0x11bdfef10>"
      ]
     },
     "metadata": {},
     "output_type": "display_data"
    }
   ],
   "source": [
    "#Nick code to do the same thing above (slight differences due to range)\n",
    "plt.hist(df['tripduration'], bins=100, range=[0, 1800])"
   ]
  },
  {
   "cell_type": "code",
   "execution_count": 51,
   "metadata": {
    "collapsed": false
   },
   "outputs": [
    {
     "data": {
      "text/plain": [
       "(array([  29216.,   64616.,  122366.,  172014.,  211059.,  246325.,\n",
       "         257511.,  271782.,  265769.,  262466.,  265308.,  252174.,\n",
       "         250798.,  234084.,  225204.,  221556.,  205397.,  202057.,\n",
       "         188110.,  178936.,  176788.,  164747.,  163298.,  152176.,\n",
       "         147450.,  145242.,  135495.,  134411.,  125650.,  121744.,\n",
       "         120987.,  113890.,  111793.,  105356.,  101953.,  101238.,\n",
       "          94359.,   93237.,   86142.,   81757.,   80513.,   73202.,\n",
       "          70311.,   63818.,   59685.,   56829.,   50734.,   46877.,\n",
       "          40835.,   37002.,   34085.,   29316.,   27557.,   24561.,\n",
       "          22248.,   21162.,   18990.,   18088.,   16580.,   15529.,\n",
       "          14825.,   13678.,   13169.,   12031.,   11418.,   10979.,\n",
       "          10428.,   10032.,    9264.,    8876.,    8800.,    8112.,\n",
       "           8031.,    7678.,    7256.,    7139.,    6666.,    6742.,\n",
       "           6276.,    6128.,    6143.,    5813.,    5564.,    5371.,\n",
       "           5304.,    5226.,    4946.,    4906.,    4530.,    4518.,\n",
       "           4534.,    4293.,    4337.,    3864.,    3934.,    3852.,\n",
       "           3542.,    3621.,    3418.,    3162.]),\n",
       " array([   60. ,    95.4,   130.8,   166.2,   201.6,   237. ,   272.4,\n",
       "          307.8,   343.2,   378.6,   414. ,   449.4,   484.8,   520.2,\n",
       "          555.6,   591. ,   626.4,   661.8,   697.2,   732.6,   768. ,\n",
       "          803.4,   838.8,   874.2,   909.6,   945. ,   980.4,  1015.8,\n",
       "         1051.2,  1086.6,  1122. ,  1157.4,  1192.8,  1228.2,  1263.6,\n",
       "         1299. ,  1334.4,  1369.8,  1405.2,  1440.6,  1476. ,  1511.4,\n",
       "         1546.8,  1582.2,  1617.6,  1653. ,  1688.4,  1723.8,  1759.2,\n",
       "         1794.6,  1830. ,  1865.4,  1900.8,  1936.2,  1971.6,  2007. ,\n",
       "         2042.4,  2077.8,  2113.2,  2148.6,  2184. ,  2219.4,  2254.8,\n",
       "         2290.2,  2325.6,  2361. ,  2396.4,  2431.8,  2467.2,  2502.6,\n",
       "         2538. ,  2573.4,  2608.8,  2644.2,  2679.6,  2715. ,  2750.4,\n",
       "         2785.8,  2821.2,  2856.6,  2892. ,  2927.4,  2962.8,  2998.2,\n",
       "         3033.6,  3069. ,  3104.4,  3139.8,  3175.2,  3210.6,  3246. ,\n",
       "         3281.4,  3316.8,  3352.2,  3387.6,  3423. ,  3458.4,  3493.8,\n",
       "         3529.2,  3564.6,  3600. ]),\n",
       " <a list of 100 Patch objects>)"
      ]
     },
     "execution_count": 51,
     "metadata": {},
     "output_type": "execute_result"
    },
    {
     "data": {
      "image/png": "[encoded data removed]",
      "text/plain": [
       "<matplotlib.figure.Figure at 0x11c68cf50>"
      ]
     },
     "metadata": {},
     "output_type": "display_data"
    }
   ],
   "source": [
    "plt.hist(df[(df['tripduration'] <= 3600.0)]['tripduration'], bins=100)"
   ]
  },
  {
   "cell_type": "code",
   "execution_count": 52,
   "metadata": {
    "collapsed": false
   },
   "outputs": [
    {
     "data": {
      "text/plain": [
       "(array([ 19217.,  18183.,  17159.,  16233.,  15251.,  14472.,  13802.,\n",
       "         13231.,  12716.,  11996.,  11592.,  10835.,  10611.,  10199.,\n",
       "          9696.,   9319.,   8975.,   8839.,   8537.,   8234.,   7966.,\n",
       "          7573.,   7371.,   7201.,   6983.,   6761.,   6539.,   6335.,\n",
       "          6097.,   5993.,   5858.,   5658.,   5379.,   5389.,   5358.,\n",
       "          5067.,   4962.,   4856.,   4735.,   4618.,   4507.,   4411.,\n",
       "          4389.,   4239.,   4101.,   4120.,   3919.,   3993.,   3890.,\n",
       "          3747.,   3656.,   3675.,   3461.,   3445.,   3386.,   3402.,\n",
       "          3340.,   3202.,   3216.,   3099.,   3137.,   3070.,   3116.,\n",
       "          2999.,   2838.,   2810.,   2770.,   2785.,   2760.,   2758.,\n",
       "          2571.,   2726.,   2552.,   2475.,   2480.,   2444.,   2401.,\n",
       "          2371.,   2340.,   2312.,   2223.,   2300.,   2233.,   2190.,\n",
       "          2190.,   2135.,   2090.,   1974.,   2048.,   2019.,   1913.,\n",
       "          1928.,   1828.,   1800.,   1766.,   1868.,   1799.,   1749.,\n",
       "          1595.,   1652.]),\n",
       " array([ 1800.,  1818.,  1836.,  1854.,  1872.,  1890.,  1908.,  1926.,\n",
       "         1944.,  1962.,  1980.,  1998.,  2016.,  2034.,  2052.,  2070.,\n",
       "         2088.,  2106.,  2124.,  2142.,  2160.,  2178.,  2196.,  2214.,\n",
       "         2232.,  2250.,  2268.,  2286.,  2304.,  2322.,  2340.,  2358.,\n",
       "         2376.,  2394.,  2412.,  2430.,  2448.,  2466.,  2484.,  2502.,\n",
       "         2520.,  2538.,  2556.,  2574.,  2592.,  2610.,  2628.,  2646.,\n",
       "         2664.,  2682.,  2700.,  2718.,  2736.,  2754.,  2772.,  2790.,\n",
       "         2808.,  2826.,  2844.,  2862.,  2880.,  2898.,  2916.,  2934.,\n",
       "         2952.,  2970.,  2988.,  3006.,  3024.,  3042.,  3060.,  3078.,\n",
       "         3096.,  3114.,  3132.,  3150.,  3168.,  3186.,  3204.,  3222.,\n",
       "         3240.,  3258.,  3276.,  3294.,  3312.,  3330.,  3348.,  3366.,\n",
       "         3384.,  3402.,  3420.,  3438.,  3456.,  3474.,  3492.,  3510.,\n",
       "         3528.,  3546.,  3564.,  3582.,  3600.]),\n",
       " <a list of 100 Patch objects>)"
      ]
     },
     "execution_count": 52,
     "metadata": {},
     "output_type": "execute_result"
    },
    {
     "data": {
      "image/png": "[encoded data removed]",
      "text/plain": [
       "<matplotlib.figure.Figure at 0x11c695090>"
      ]
     },
     "metadata": {},
     "output_type": "display_data"
    }
   ],
   "source": [
    "plt.hist(df[(df['tripduration'] <= 1800.0)]['tripduration'], bins=100)\n",
    "plt.hist(df[(df['tripduration'] >= 1800.0) & (df['tripduration'] <= 3600.0)]['tripduration'], bins=100, color='r')"
   ]
  },
  {
   "cell_type": "code",
   "execution_count": null,
   "metadata": {
    "collapsed": true
   },
   "outputs": [],
   "source": [
    "plt.hist(df[(df['tripduration'] <= 1800.0)]['tripduration'], bins=100)\n",
    "plt.hist(df[(df['tripduration'] >= 1800.0) & (df['tripduration'] <= 3600.0)]['tripduration'], bins=100, color='r')"
   ]
  },
  {
   "cell_type": "code",
   "execution_count": 54,
   "metadata": {
    "collapsed": false
   },
   "outputs": [
    {
     "data": {
      "text/plain": [
       "Subscriber    5466758\n",
       "Customer      2400700\n",
       "Dependent         143\n",
       "Name: usertype, dtype: int64"
      ]
     },
     "execution_count": 54,
     "metadata": {},
     "output_type": "execute_result"
    }
   ],
   "source": [
    "df['usertype'].value_counts()"
   ]
  },
  {
   "cell_type": "code",
   "execution_count": 58,
   "metadata": {
    "collapsed": false
   },
   "outputs": [
    {
     "name": "stdout",
     "output_type": "stream",
     "text": [
      "bikeid               7867458\n",
      "birthday              402909\n",
      "birthyear            5063774\n",
      "from_station_id      7867458\n",
      "from_station_name    7867458\n",
      "gender               5466497\n",
      "starttime            7867458\n",
      "stoptime             7867458\n",
      "to_station_id        7867458\n",
      "to_station_name      7867458\n",
      "trip_id              7867458\n",
      "tripduration         7867458\n",
      "usertype             7867458\n",
      "dtype: int64\n"
     ]
    }
   ],
   "source": [
    "no_dependents = df.copy()\n",
    "no_dependents = no_dependents[(no_dependents['usertype'] != 'Dependent')]\n",
    "print no_dependents.count()"
   ]
  },
  {
   "cell_type": "code",
   "execution_count": 61,
   "metadata": {
    "collapsed": false
   },
   "outputs": [
    {
     "data": {
      "text/plain": [
       "Subscriber    5466758\n",
       "Customer      2400700\n",
       "Name: usertype, dtype: int64"
      ]
     },
     "execution_count": 61,
     "metadata": {},
     "output_type": "execute_result"
    }
   ],
   "source": [
    "no_dependents['usertype'].value_counts()"
   ]
  },
  {
   "cell_type": "code",
   "execution_count": 65,
   "metadata": {
    "collapsed": true
   },
   "outputs": [],
   "source": [
    "import math\n",
    "\n",
    "no_dependents['minutes'] = no_dependents['tripduration'].apply(lambda x: math.floor(x / 60.0))"
   ]
  },
  {
   "cell_type": "code",
   "execution_count": 67,
   "metadata": {
    "collapsed": false
   },
   "outputs": [
    {
     "data": {
      "text/plain": [
       "count    7.867458e+06\n",
       "mean     1.676345e+01\n",
       "std      3.438507e+01\n",
       "min      1.000000e+00\n",
       "25%      7.000000e+00\n",
       "50%      1.200000e+01\n",
       "75%      2.000000e+01\n",
       "max      1.439000e+03\n",
       "Name: minutes, dtype: float64"
      ]
     },
     "execution_count": 67,
     "metadata": {},
     "output_type": "execute_result"
    }
   ],
   "source": [
    "no_dependents['minutes'].describe()"
   ]
  },
  {
   "cell_type": "code",
   "execution_count": 68,
   "metadata": {
    "collapsed": false
   },
   "outputs": [
    {
     "data": {
      "text/plain": [
       "0     5.0\n",
       "1     1.0\n",
       "2     7.0\n",
       "3     2.0\n",
       "4    14.0\n",
       "Name: minutes, dtype: float64"
      ]
     },
     "execution_count": 68,
     "metadata": {},
     "output_type": "execute_result"
    }
   ],
   "source": [
    "no_dependents['minutes'].head()"
   ]
  },
  {
   "cell_type": "code",
   "execution_count": 69,
   "metadata": {
    "collapsed": false
   },
   "outputs": [
    {
     "data": {
      "text/html": [
       "<div>\n",
       "<table border=\"1\" class=\"dataframe\">\n",
       "  <thead>\n",
       "    <tr style=\"text-align: right;\">\n",
       "      <th></th>\n",
       "      <th>Customer</th>\n",
       "      <th>Subscriber</th>\n",
       "    </tr>\n",
       "  </thead>\n",
       "  <tbody>\n",
       "    <tr>\n",
       "      <th>0</th>\n",
       "      <td>1.0</td>\n",
       "      <td>0.0</td>\n",
       "    </tr>\n",
       "    <tr>\n",
       "      <th>1</th>\n",
       "      <td>1.0</td>\n",
       "      <td>0.0</td>\n",
       "    </tr>\n",
       "    <tr>\n",
       "      <th>2</th>\n",
       "      <td>1.0</td>\n",
       "      <td>0.0</td>\n",
       "    </tr>\n",
       "    <tr>\n",
       "      <th>3</th>\n",
       "      <td>1.0</td>\n",
       "      <td>0.0</td>\n",
       "    </tr>\n",
       "    <tr>\n",
       "      <th>4</th>\n",
       "      <td>1.0</td>\n",
       "      <td>0.0</td>\n",
       "    </tr>\n",
       "  </tbody>\n",
       "</table>\n",
       "</div>"
      ],
      "text/plain": [
       "   Customer  Subscriber\n",
       "0       1.0         0.0\n",
       "1       1.0         0.0\n",
       "2       1.0         0.0\n",
       "3       1.0         0.0\n",
       "4       1.0         0.0"
      ]
     },
     "execution_count": 69,
     "metadata": {},
     "output_type": "execute_result"
    }
   ],
   "source": [
    "usertypes = pd.get_dummies(no_dependents['usertype'])\n",
    "usertypes.head()"
   ]
  },
  {
   "cell_type": "code",
   "execution_count": 70,
   "metadata": {
    "collapsed": false
   },
   "outputs": [
    {
     "data": {
      "text/html": [
       "<div>\n",
       "<table border=\"1\" class=\"dataframe\">\n",
       "  <thead>\n",
       "    <tr style=\"text-align: right;\">\n",
       "      <th></th>\n",
       "      <th>bikeid</th>\n",
       "      <th>birthday</th>\n",
       "      <th>birthyear</th>\n",
       "      <th>from_station_id</th>\n",
       "      <th>from_station_name</th>\n",
       "      <th>gender</th>\n",
       "      <th>starttime</th>\n",
       "      <th>stoptime</th>\n",
       "      <th>to_station_id</th>\n",
       "      <th>to_station_name</th>\n",
       "      <th>trip_id</th>\n",
       "      <th>tripduration</th>\n",
       "      <th>usertype</th>\n",
       "      <th>minutes</th>\n",
       "      <th>Customer</th>\n",
       "      <th>Subscriber</th>\n",
       "    </tr>\n",
       "  </thead>\n",
       "  <tbody>\n",
       "    <tr>\n",
       "      <th>0</th>\n",
       "      <td>480</td>\n",
       "      <td>NaN</td>\n",
       "      <td>NaN</td>\n",
       "      <td>85</td>\n",
       "      <td>Michigan Ave &amp; Oak St</td>\n",
       "      <td>NaN</td>\n",
       "      <td>2013-06-27 12:11</td>\n",
       "      <td>2013-06-27 12:16</td>\n",
       "      <td>28</td>\n",
       "      <td>Larrabee St &amp; Menomonee St</td>\n",
       "      <td>4118</td>\n",
       "      <td>316</td>\n",
       "      <td>Customer</td>\n",
       "      <td>5.0</td>\n",
       "      <td>1.0</td>\n",
       "      <td>0.0</td>\n",
       "    </tr>\n",
       "    <tr>\n",
       "      <th>1</th>\n",
       "      <td>77</td>\n",
       "      <td>NaN</td>\n",
       "      <td>NaN</td>\n",
       "      <td>32</td>\n",
       "      <td>Racine Ave &amp; Congress Pkwy</td>\n",
       "      <td>NaN</td>\n",
       "      <td>2013-06-27 14:44</td>\n",
       "      <td>2013-06-27 14:45</td>\n",
       "      <td>32</td>\n",
       "      <td>Racine Ave &amp; Congress Pkwy</td>\n",
       "      <td>4275</td>\n",
       "      <td>64</td>\n",
       "      <td>Customer</td>\n",
       "      <td>1.0</td>\n",
       "      <td>1.0</td>\n",
       "      <td>0.0</td>\n",
       "    </tr>\n",
       "    <tr>\n",
       "      <th>2</th>\n",
       "      <td>77</td>\n",
       "      <td>NaN</td>\n",
       "      <td>NaN</td>\n",
       "      <td>32</td>\n",
       "      <td>Racine Ave &amp; Congress Pkwy</td>\n",
       "      <td>NaN</td>\n",
       "      <td>2013-06-27 14:58</td>\n",
       "      <td>2013-06-27 15:05</td>\n",
       "      <td>19</td>\n",
       "      <td>Loomis St &amp; Taylor St</td>\n",
       "      <td>4291</td>\n",
       "      <td>433</td>\n",
       "      <td>Customer</td>\n",
       "      <td>7.0</td>\n",
       "      <td>1.0</td>\n",
       "      <td>0.0</td>\n",
       "    </tr>\n",
       "    <tr>\n",
       "      <th>3</th>\n",
       "      <td>77</td>\n",
       "      <td>NaN</td>\n",
       "      <td>NaN</td>\n",
       "      <td>19</td>\n",
       "      <td>Loomis St &amp; Taylor St</td>\n",
       "      <td>NaN</td>\n",
       "      <td>2013-06-27 15:06</td>\n",
       "      <td>2013-06-27 15:09</td>\n",
       "      <td>19</td>\n",
       "      <td>Loomis St &amp; Taylor St</td>\n",
       "      <td>4316</td>\n",
       "      <td>123</td>\n",
       "      <td>Customer</td>\n",
       "      <td>2.0</td>\n",
       "      <td>1.0</td>\n",
       "      <td>0.0</td>\n",
       "    </tr>\n",
       "    <tr>\n",
       "      <th>4</th>\n",
       "      <td>77</td>\n",
       "      <td>NaN</td>\n",
       "      <td>NaN</td>\n",
       "      <td>19</td>\n",
       "      <td>Loomis St &amp; Taylor St</td>\n",
       "      <td>NaN</td>\n",
       "      <td>2013-06-27 15:13</td>\n",
       "      <td>2013-06-27 15:27</td>\n",
       "      <td>55</td>\n",
       "      <td>Halsted St &amp; James M Rochford St</td>\n",
       "      <td>4342</td>\n",
       "      <td>852</td>\n",
       "      <td>Customer</td>\n",
       "      <td>14.0</td>\n",
       "      <td>1.0</td>\n",
       "      <td>0.0</td>\n",
       "    </tr>\n",
       "  </tbody>\n",
       "</table>\n",
       "</div>"
      ],
      "text/plain": [
       "   bikeid  birthday  birthyear  from_station_id           from_station_name  \\\n",
       "0     480       NaN        NaN               85       Michigan Ave & Oak St   \n",
       "1      77       NaN        NaN               32  Racine Ave & Congress Pkwy   \n",
       "2      77       NaN        NaN               32  Racine Ave & Congress Pkwy   \n",
       "3      77       NaN        NaN               19       Loomis St & Taylor St   \n",
       "4      77       NaN        NaN               19       Loomis St & Taylor St   \n",
       "\n",
       "  gender         starttime          stoptime  to_station_id  \\\n",
       "0    NaN  2013-06-27 12:11  2013-06-27 12:16             28   \n",
       "1    NaN  2013-06-27 14:44  2013-06-27 14:45             32   \n",
       "2    NaN  2013-06-27 14:58  2013-06-27 15:05             19   \n",
       "3    NaN  2013-06-27 15:06  2013-06-27 15:09             19   \n",
       "4    NaN  2013-06-27 15:13  2013-06-27 15:27             55   \n",
       "\n",
       "                    to_station_name  trip_id  tripduration  usertype  minutes  \\\n",
       "0        Larrabee St & Menomonee St     4118           316  Customer      5.0   \n",
       "1        Racine Ave & Congress Pkwy     4275            64  Customer      1.0   \n",
       "2             Loomis St & Taylor St     4291           433  Customer      7.0   \n",
       "3             Loomis St & Taylor St     4316           123  Customer      2.0   \n",
       "4  Halsted St & James M Rochford St     4342           852  Customer     14.0   \n",
       "\n",
       "   Customer  Subscriber  \n",
       "0       1.0         0.0  \n",
       "1       1.0         0.0  \n",
       "2       1.0         0.0  \n",
       "3       1.0         0.0  \n",
       "4       1.0         0.0  "
      ]
     },
     "execution_count": 70,
     "metadata": {},
     "output_type": "execute_result"
    }
   ],
   "source": [
    "no_dependents = no_dependents.join(usertypes)\n",
    "no_dependents.head()"
   ]
  },
  {
   "cell_type": "code",
   "execution_count": 71,
   "metadata": {
    "collapsed": false
   },
   "outputs": [
    {
     "data": {
      "text/plain": [
       "minutes\n",
       "1.0       11774.0\n",
       "2.0       12694.0\n",
       "3.0       18447.0\n",
       "4.0       26803.0\n",
       "5.0       34227.0\n",
       "6.0       42052.0\n",
       "7.0       49372.0\n",
       "8.0       55955.0\n",
       "9.0       61414.0\n",
       "10.0      65174.0\n",
       "11.0      69195.0\n",
       "12.0      71453.0\n",
       "13.0      74183.0\n",
       "14.0      76212.0\n",
       "15.0      78379.0\n",
       "16.0      80074.0\n",
       "17.0      81286.0\n",
       "18.0      82635.0\n",
       "19.0      83696.0\n",
       "20.0      82701.0\n",
       "21.0      83495.0\n",
       "22.0      82488.0\n",
       "23.0      80318.0\n",
       "24.0      78146.0\n",
       "25.0      73964.0\n",
       "26.0      69233.0\n",
       "27.0      64424.0\n",
       "28.0      58353.0\n",
       "29.0      50364.0\n",
       "30.0      43830.0\n",
       "           ...   \n",
       "1410.0        4.0\n",
       "1411.0        5.0\n",
       "1412.0        2.0\n",
       "1413.0        5.0\n",
       "1414.0        3.0\n",
       "1415.0        7.0\n",
       "1416.0       11.0\n",
       "1417.0        4.0\n",
       "1418.0        5.0\n",
       "1419.0        3.0\n",
       "1420.0       14.0\n",
       "1421.0        6.0\n",
       "1422.0       14.0\n",
       "1423.0        8.0\n",
       "1424.0        9.0\n",
       "1425.0        7.0\n",
       "1426.0        3.0\n",
       "1427.0        4.0\n",
       "1428.0        2.0\n",
       "1429.0        7.0\n",
       "1430.0        8.0\n",
       "1431.0        5.0\n",
       "1432.0        1.0\n",
       "1433.0        6.0\n",
       "1434.0        2.0\n",
       "1435.0        6.0\n",
       "1436.0        8.0\n",
       "1437.0        7.0\n",
       "1438.0        6.0\n",
       "1439.0        5.0\n",
       "Name: Customer, dtype: float64"
      ]
     },
     "execution_count": 71,
     "metadata": {},
     "output_type": "execute_result"
    }
   ],
   "source": [
    "no_dependents.groupby('minutes')['Customer'].sum()"
   ]
  },
  {
   "cell_type": "code",
   "execution_count": 72,
   "metadata": {
    "collapsed": false
   },
   "outputs": [
    {
     "data": {
      "text/plain": [
       "minutes\n",
       "1.0       11774.0\n",
       "2.0       12694.0\n",
       "3.0       18447.0\n",
       "4.0       26803.0\n",
       "5.0       34227.0\n",
       "6.0       42052.0\n",
       "7.0       49372.0\n",
       "8.0       55955.0\n",
       "9.0       61414.0\n",
       "10.0      65174.0\n",
       "11.0      69195.0\n",
       "12.0      71453.0\n",
       "13.0      74183.0\n",
       "14.0      76212.0\n",
       "15.0      78379.0\n",
       "16.0      80074.0\n",
       "17.0      81286.0\n",
       "18.0      82635.0\n",
       "19.0      83696.0\n",
       "20.0      82701.0\n",
       "21.0      83495.0\n",
       "22.0      82488.0\n",
       "23.0      80318.0\n",
       "24.0      78146.0\n",
       "25.0      73964.0\n",
       "26.0      69233.0\n",
       "27.0      64424.0\n",
       "28.0      58353.0\n",
       "29.0      50364.0\n",
       "30.0      43830.0\n",
       "           ...   \n",
       "1410.0        4.0\n",
       "1411.0        5.0\n",
       "1412.0        2.0\n",
       "1413.0        5.0\n",
       "1414.0        3.0\n",
       "1415.0        7.0\n",
       "1416.0       11.0\n",
       "1417.0        4.0\n",
       "1418.0        5.0\n",
       "1419.0        3.0\n",
       "1420.0       14.0\n",
       "1421.0        6.0\n",
       "1422.0       14.0\n",
       "1423.0        8.0\n",
       "1424.0        9.0\n",
       "1425.0        7.0\n",
       "1426.0        3.0\n",
       "1427.0        4.0\n",
       "1428.0        2.0\n",
       "1429.0        7.0\n",
       "1430.0        8.0\n",
       "1431.0        5.0\n",
       "1432.0        1.0\n",
       "1433.0        6.0\n",
       "1434.0        2.0\n",
       "1435.0        6.0\n",
       "1436.0        8.0\n",
       "1437.0        7.0\n",
       "1438.0        6.0\n",
       "1439.0        5.0\n",
       "Name: Customer, dtype: float64"
      ]
     },
     "execution_count": 72,
     "metadata": {},
     "output_type": "execute_result"
    }
   ],
   "source": [
    "pd.pivot_table(no_dependents, index='minutes', values='Customer', aggfunc=sum)"
   ]
  },
  {
   "cell_type": "code",
   "execution_count": 73,
   "metadata": {
    "collapsed": true
   },
   "outputs": [],
   "source": [
    "customers_by_minutes = no_dependents.groupby('minutes')['Customer'].sum()\n",
    "subscribers_by_minutes = no_dependents.groupby('minutes')['Subscriber'].sum()"
   ]
  },
  {
   "cell_type": "code",
   "execution_count": 82,
   "metadata": {
    "collapsed": false
   },
   "outputs": [
    {
     "data": {
      "text/plain": [
       "<matplotlib.legend.Legend at 0x11e4af150>"
      ]
     },
     "execution_count": 82,
     "metadata": {},
     "output_type": "execute_result"
    },
    {
     "data": {
      "image/png": "[encoded data removed]",
      "text/plain": [
       "<matplotlib.figure.Figure at 0x11eaaa290>"
      ]
     },
     "metadata": {},
     "output_type": "display_data"
    }
   ],
   "source": [
    "plt.axes(axisbg='pink')\n",
    "plt.plot(customers_by_minutes, label='Customers')\n",
    "plt.plot(subscribers_by_minutes, color='limegreen', label='Subscribers')\n",
    "plt.xlim(0, 90)\n",
    "plt.ylabel('Number of Rides 2013Q3 - 2016Q2')\n",
    "plt.xlabel('Full Minutes of Rides')\n",
    "plt.title('Number of Subscriber and Customer Rides, per Minute, 2013Q3 - 2016Q2')\n",
    "plt.legend(loc='upper right', shadow=True, fontsize='large')"
   ]
  },
  {
   "cell_type": "code",
   "execution_count": 83,
   "metadata": {
    "collapsed": false
   },
   "outputs": [
    {
     "data": {
      "text/plain": [
       "<matplotlib.legend.Legend at 0x11f2f5410>"
      ]
     },
     "execution_count": 83,
     "metadata": {},
     "output_type": "execute_result"
    },
    {
     "data": {
      "image/png": "[encoded data removed]",
      "text/plain": [
       "<matplotlib.figure.Figure at 0x11f20c5d0>"
      ]
     },
     "metadata": {},
     "output_type": "display_data"
    }
   ],
   "source": [
    "plt.xkcd()\n",
    "plt.plot(customers_by_minutes, label='Customers')\n",
    "plt.plot(subscribers_by_minutes, label='Subscribers')\n",
    "plt.xlim(0, 90)\n",
    "plt.ylabel(\"Number of Rides 2013Q3-2016Q2\")\n",
    "plt.xlabel(\"Legth of Ride (in full minutes)\")\n",
    "plt.title(\"Number of Subscriber and Customer Rides, \\nper minute, 2013Q3-2016Q2\")\n",
    "plt.legend(loc='upper right', shadow=True, fontsize='large')"
   ]
  },
  {
   "cell_type": "code",
   "execution_count": null,
   "metadata": {
    "collapsed": true
   },
   "outputs": [],
   "source": []
  }
 ],
 "metadata": {
  "anaconda-cloud": {},
  "kernelspec": {
   "display_name": "Python [Root]",
   "language": "python",
   "name": "Python [Root]"
  },
  "language_info": {
   "codemirror_mode": {
    "name": "ipython",
    "version": 2
   },
   "file_extension": ".py",
   "mimetype": "text/x-python",
   "name": "python",
   "nbconvert_exporter": "python",
   "pygments_lexer": "ipython2",
   "version": "2.7.11"
  }
 },
 "nbformat": 4,
 "nbformat_minor": 0
}
