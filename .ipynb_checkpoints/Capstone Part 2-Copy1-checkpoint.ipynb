{
 "cells": [
  {
   "cell_type": "markdown",
   "metadata": {},
   "source": [
    "Overview:\n",
    "The main purpose of this project is to measure how various factors impact the movement of the secondary baseball ticket market (i.e. StubHub). One main question of the project is to understand how, if at all, plays on the field stimulate movement in ticket prices. This particular question will be studied within the context of playoff series, where the effect of single plays can be better isolated than they can be over the course of an entire season.\n",
    "However, the ways in which ticket prices move over the course of the season is also a question of interest to this project. To explore this question, I have collected a variety of data that might help inform how ticket prices move over the course of a season. I have collected team records over the course of a season (measured at the beginning of each month of the season (6 points)\n",
    "\n",
    "Aims:\n",
    "Aim of the project is to predict ticket price movement based on a) in-game factors (Top 5 plays of playoff games), b) seasonal factors (win-loss record over time) and c) market factors (fan cost index).\n",
    "\n",
    "Methods:\n",
    "As I have not gotten past data collection as of yet, I currently do not have a good vision for the methods that I will undertake in the project. For certain, I will certainly run correlations where possible and run regressions to understand how different factors influence ticket price movement.\n",
    "\n",
    "Risks and Assumptions:\n",
    "The project assumes that on-field plays have a measureable effect on ticket prices. \n",
    "\n",
    "Goals/Success Criteria:\n",
    "Build a model that measures how much a ticket will sell for based on the presence/absence (or change in) a given factor. \n",
    "\n",
    "Data:\n",
    "I have already acquired .csv files for MLB Attendance figures (5 years, 2012-2016), Fan Cost Index (FCI, 5 years, 2012-2016), player salary data (2012-2016), and overall MLB standings and records (2012-2016). All are relatively clean but will require cleanup such as transforming data types, renaming columns and dropping items not needed for analysis. \n",
    "\n",
    "I have not had significant time yet to explore the StubHub API. 2 scrapers that I need to collect data are almost done. Exploring the SH API will be the next priority (and the final one) before data cleanup, transformation, and modeling can begin in earnest.\n",
    "\n",
    "Data Cleaning:\n",
    "Data cleaning will involve transforming data types, renaming columns, dropping columns that are not needed for analysis, creating dummy variables for categorical items (if needed).\n",
    "\n",
    "Data Dictionary:\n",
    "I have not started this yet. I will build a data dictionary as I go through the data cleaning process. \n",
    "\n",
    "EDA:\n",
    "I have not stared exploratory data analysis yet. I am still in the data collection phase."
   ]
  },
  {
   "cell_type": "markdown",
   "metadata": {},
   "source": [
    "Code to read tables of player salaries"
   ]
  },
  {
   "cell_type": "code",
   "execution_count": null,
   "metadata": {
    "collapsed": true
   },
   "outputs": [],
   "source": [
    "#I ran a bunch of these for each year that I wanted.\n",
    "salaries_2016 = pd.read_html('http://www.usatoday.com/sports/mlb/salaries/2016/player/all/', \n",
    "                             attrs={\"class\":'ribbonfx'}, encoding='utf-8')[0]"
   ]
  },
  {
   "cell_type": "markdown",
   "metadata": {},
   "source": [
    "Scraper for collecting URLS pertaining to standings over time"
   ]
  },
  {
   "cell_type": "code",
   "execution_count": null,
   "metadata": {
    "collapsed": true
   },
   "outputs": [],
   "source": [
    "years = ['2012', '2013', '2014', '2015', '2016']\n",
    "months = ['4', '5', '6', '7', '8', '9']\n",
    "basic_url = 'http://www.baseball-reference.com/games/standings.cgi?year='\n",
    "\n",
    "def url_generator(year, month):\n",
    "    urls = []    \n",
    "    for year in years:\n",
    "        for month in months:\n",
    "            url = basic_url+year+'&month='+month+'&day=1&submit=Submit+Date'\n",
    "            urls.append(url)\n",
    "    print(urls)\n",
    "    return urls\n",
    "\n",
    "url_generator(years, months)"
   ]
  }
 ],
 "metadata": {
  "anaconda-cloud": {},
  "kernelspec": {
   "display_name": "Python [Root]",
   "language": "python",
   "name": "Python [Root]"
  },
  "language_info": {
   "codemirror_mode": {
    "name": "ipython",
    "version": 2
   },
   "file_extension": ".py",
   "mimetype": "text/x-python",
   "name": "python",
   "nbconvert_exporter": "python",
   "pygments_lexer": "ipython2",
   "version": "2.7.11"
  }
 },
 "nbformat": 4,
 "nbformat_minor": 0
}
