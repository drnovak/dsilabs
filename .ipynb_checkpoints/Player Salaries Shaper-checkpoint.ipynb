{
 "cells": [
  {
   "cell_type": "code",
   "execution_count": 1,
   "metadata": {
    "collapsed": true
   },
   "outputs": [],
   "source": [
    "import pandas as pd"
   ]
  },
  {
   "cell_type": "code",
   "execution_count": 2,
   "metadata": {
    "collapsed": false
   },
   "outputs": [
    {
     "data": {
      "text/plain": [
       "u'/Users/DRN/capstone/jupyternotebooks'"
      ]
     },
     "execution_count": 2,
     "metadata": {},
     "output_type": "execute_result"
    }
   ],
   "source": [
    "pwd"
   ]
  },
  {
   "cell_type": "code",
   "execution_count": 3,
   "metadata": {
    "collapsed": false
   },
   "outputs": [],
   "source": [
    "salaries_2015 = pd.read_csv('../data/salaries/salaries_2015.csv', index_col=0)"
   ]
  },
  {
   "cell_type": "code",
   "execution_count": 4,
   "metadata": {
    "collapsed": false,
    "scrolled": true
   },
   "outputs": [
    {
     "data": {
      "text/html": [
       "<div>\n",
       "<table border=\"1\" class=\"dataframe\">\n",
       "  <thead>\n",
       "    <tr style=\"text-align: right;\">\n",
       "      <th></th>\n",
       "      <th>Name</th>\n",
       "      <th>Team</th>\n",
       "      <th>POS</th>\n",
       "      <th>Salary</th>\n",
       "      <th>Years</th>\n",
       "      <th>Total Value</th>\n",
       "      <th>Avg Annual</th>\n",
       "    </tr>\n",
       "  </thead>\n",
       "  <tbody>\n",
       "    <tr>\n",
       "      <th>0</th>\n",
       "      <td>Justin Verlander</td>\n",
       "      <td>DET</td>\n",
       "      <td>SP</td>\n",
       "      <td>$28,000,000</td>\n",
       "      <td>7 (2013-19)</td>\n",
       "      <td>$180,000,000</td>\n",
       "      <td>$25,714,285</td>\n",
       "    </tr>\n",
       "    <tr>\n",
       "      <th>1</th>\n",
       "      <td>Zack Greinke</td>\n",
       "      <td>LAD</td>\n",
       "      <td>SP</td>\n",
       "      <td>$27,000,000</td>\n",
       "      <td>6 (2013-18)</td>\n",
       "      <td>$147,000,000</td>\n",
       "      <td>$24,500,000</td>\n",
       "    </tr>\n",
       "    <tr>\n",
       "      <th>2</th>\n",
       "      <td>Josh Hamilton</td>\n",
       "      <td>LAA</td>\n",
       "      <td>RF</td>\n",
       "      <td>$25,000,000</td>\n",
       "      <td>5 (2013-17)</td>\n",
       "      <td>$125,000,000</td>\n",
       "      <td>$25,000,000</td>\n",
       "    </tr>\n",
       "    <tr>\n",
       "      <th>3</th>\n",
       "      <td>Ryan Howard</td>\n",
       "      <td>PHI</td>\n",
       "      <td>1B</td>\n",
       "      <td>$25,000,000</td>\n",
       "      <td>5 (2012-16)</td>\n",
       "      <td>$125,000,000</td>\n",
       "      <td>$25,000,000</td>\n",
       "    </tr>\n",
       "    <tr>\n",
       "      <th>4</th>\n",
       "      <td>Cliff Lee</td>\n",
       "      <td>PHI</td>\n",
       "      <td>SP</td>\n",
       "      <td>$25,000,000</td>\n",
       "      <td>5 (2011-15)</td>\n",
       "      <td>$120,000,000</td>\n",
       "      <td>$24,000,000</td>\n",
       "    </tr>\n",
       "  </tbody>\n",
       "</table>\n",
       "</div>"
      ],
      "text/plain": [
       "               Name Team POS        Salary        Years    Total Value  \\\n",
       "0  Justin Verlander  DET  SP  $28,000,000   7 (2013-19)  $180,000,000    \n",
       "1      Zack Greinke  LAD  SP  $27,000,000   6 (2013-18)  $147,000,000    \n",
       "2     Josh Hamilton  LAA  RF  $25,000,000   5 (2013-17)  $125,000,000    \n",
       "3       Ryan Howard  PHI  1B  $25,000,000   5 (2012-16)  $125,000,000    \n",
       "4         Cliff Lee  PHI  SP  $25,000,000   5 (2011-15)  $120,000,000    \n",
       "\n",
       "     Avg Annual  \n",
       "0  $25,714,285   \n",
       "1  $24,500,000   \n",
       "2  $25,000,000   \n",
       "3  $25,000,000   \n",
       "4  $24,000,000   "
      ]
     },
     "execution_count": 4,
     "metadata": {},
     "output_type": "execute_result"
    }
   ],
   "source": [
    "salaries_2015.head()"
   ]
  },
  {
   "cell_type": "code",
   "execution_count": 5,
   "metadata": {
    "collapsed": false
   },
   "outputs": [],
   "source": [
    "salaries_2015.rename(columns={'Team': 'team', 'Name': 'name', 'POS': 'pos', 'Salary': 'salary', 'Years': 'years',\n",
    "                         'Total Value': 'total_value', 'Avg Annual': 'avg_annual'},\n",
    "                         inplace=True)"
   ]
  },
  {
   "cell_type": "code",
   "execution_count": 6,
   "metadata": {
    "collapsed": false
   },
   "outputs": [
    {
     "data": {
      "text/html": [
       "<div>\n",
       "<table border=\"1\" class=\"dataframe\">\n",
       "  <thead>\n",
       "    <tr style=\"text-align: right;\">\n",
       "      <th></th>\n",
       "      <th>name</th>\n",
       "      <th>team</th>\n",
       "      <th>pos</th>\n",
       "      <th>salary</th>\n",
       "      <th>years</th>\n",
       "      <th>total_value</th>\n",
       "      <th>avg_annual</th>\n",
       "    </tr>\n",
       "  </thead>\n",
       "  <tbody>\n",
       "    <tr>\n",
       "      <th>0</th>\n",
       "      <td>Justin Verlander</td>\n",
       "      <td>DET</td>\n",
       "      <td>SP</td>\n",
       "      <td>$28,000,000</td>\n",
       "      <td>7 (2013-19)</td>\n",
       "      <td>$180,000,000</td>\n",
       "      <td>$25,714,285</td>\n",
       "    </tr>\n",
       "    <tr>\n",
       "      <th>1</th>\n",
       "      <td>Zack Greinke</td>\n",
       "      <td>LAD</td>\n",
       "      <td>SP</td>\n",
       "      <td>$27,000,000</td>\n",
       "      <td>6 (2013-18)</td>\n",
       "      <td>$147,000,000</td>\n",
       "      <td>$24,500,000</td>\n",
       "    </tr>\n",
       "    <tr>\n",
       "      <th>2</th>\n",
       "      <td>Josh Hamilton</td>\n",
       "      <td>LAA</td>\n",
       "      <td>RF</td>\n",
       "      <td>$25,000,000</td>\n",
       "      <td>5 (2013-17)</td>\n",
       "      <td>$125,000,000</td>\n",
       "      <td>$25,000,000</td>\n",
       "    </tr>\n",
       "    <tr>\n",
       "      <th>3</th>\n",
       "      <td>Ryan Howard</td>\n",
       "      <td>PHI</td>\n",
       "      <td>1B</td>\n",
       "      <td>$25,000,000</td>\n",
       "      <td>5 (2012-16)</td>\n",
       "      <td>$125,000,000</td>\n",
       "      <td>$25,000,000</td>\n",
       "    </tr>\n",
       "    <tr>\n",
       "      <th>4</th>\n",
       "      <td>Cliff Lee</td>\n",
       "      <td>PHI</td>\n",
       "      <td>SP</td>\n",
       "      <td>$25,000,000</td>\n",
       "      <td>5 (2011-15)</td>\n",
       "      <td>$120,000,000</td>\n",
       "      <td>$24,000,000</td>\n",
       "    </tr>\n",
       "  </tbody>\n",
       "</table>\n",
       "</div>"
      ],
      "text/plain": [
       "               name team pos        salary        years    total_value  \\\n",
       "0  Justin Verlander  DET  SP  $28,000,000   7 (2013-19)  $180,000,000    \n",
       "1      Zack Greinke  LAD  SP  $27,000,000   6 (2013-18)  $147,000,000    \n",
       "2     Josh Hamilton  LAA  RF  $25,000,000   5 (2013-17)  $125,000,000    \n",
       "3       Ryan Howard  PHI  1B  $25,000,000   5 (2012-16)  $125,000,000    \n",
       "4         Cliff Lee  PHI  SP  $25,000,000   5 (2011-15)  $120,000,000    \n",
       "\n",
       "     avg_annual  \n",
       "0  $25,714,285   \n",
       "1  $24,500,000   \n",
       "2  $25,000,000   \n",
       "3  $25,000,000   \n",
       "4  $24,000,000   "
      ]
     },
     "execution_count": 6,
     "metadata": {},
     "output_type": "execute_result"
    }
   ],
   "source": [
    "salaries_2015.head()"
   ]
  },
  {
   "cell_type": "code",
   "execution_count": 7,
   "metadata": {
    "collapsed": false,
    "scrolled": true
   },
   "outputs": [
    {
     "data": {
      "text/plain": [
       "OAK    32\n",
       "TEX    32\n",
       "PIT    30\n",
       "ARI    30\n",
       "LAD    30\n",
       "PHI    30\n",
       "ATL    30\n",
       "BOS    30\n",
       "TB     30\n",
       "WSH    29\n",
       "BAL    29\n",
       "COL    29\n",
       "SD     29\n",
       "NYY    29\n",
       "LAA    29\n",
       "CHC    28\n",
       "SF     28\n",
       "KC     28\n",
       "HOU    28\n",
       "NYM    28\n",
       "CHW    28\n",
       "CIN    27\n",
       "MIA    27\n",
       "CLE    27\n",
       "STL    27\n",
       "TOR    26\n",
       "MIN    26\n",
       "MIL    26\n",
       "SEA    26\n",
       "DET    25\n",
       "Name: team, dtype: int64"
      ]
     },
     "execution_count": 7,
     "metadata": {},
     "output_type": "execute_result"
    }
   ],
   "source": [
    "salaries_2015.team.value_counts()"
   ]
  },
  {
   "cell_type": "code",
   "execution_count": 8,
   "metadata": {
    "collapsed": false,
    "scrolled": false
   },
   "outputs": [],
   "source": [
    "salaries_2015.replace({'team' : {'SF': 'SFG', 'SD': 'SDP', 'TB': 'TBR', 'KC': 'KCR'}}, inplace=True)"
   ]
  },
  {
   "cell_type": "code",
   "execution_count": 9,
   "metadata": {
    "collapsed": false
   },
   "outputs": [
    {
     "data": {
      "text/plain": [
       "TEX    32\n",
       "OAK    32\n",
       "PIT    30\n",
       "ARI    30\n",
       "TBR    30\n",
       "LAD    30\n",
       "ATL    30\n",
       "PHI    30\n",
       "BOS    30\n",
       "WSH    29\n",
       "BAL    29\n",
       "COL    29\n",
       "NYY    29\n",
       "LAA    29\n",
       "SDP    29\n",
       "CHC    28\n",
       "NYM    28\n",
       "CHW    28\n",
       "SFG    28\n",
       "HOU    28\n",
       "KCR    28\n",
       "MIA    27\n",
       "CLE    27\n",
       "STL    27\n",
       "CIN    27\n",
       "SEA    26\n",
       "TOR    26\n",
       "MIN    26\n",
       "MIL    26\n",
       "DET    25\n",
       "Name: team, dtype: int64"
      ]
     },
     "execution_count": 9,
     "metadata": {},
     "output_type": "execute_result"
    }
   ],
   "source": [
    "salaries_2015.team.value_counts()"
   ]
  },
  {
   "cell_type": "code",
   "execution_count": 10,
   "metadata": {
    "collapsed": false
   },
   "outputs": [
    {
     "data": {
      "text/plain": [
       "name           object\n",
       "team           object\n",
       "pos            object\n",
       "salary         object\n",
       "years          object\n",
       "total_value    object\n",
       "avg_annual     object\n",
       "dtype: object"
      ]
     },
     "execution_count": 10,
     "metadata": {},
     "output_type": "execute_result"
    }
   ],
   "source": [
    "salaries_2015.dtypes"
   ]
  },
  {
   "cell_type": "code",
   "execution_count": 11,
   "metadata": {
    "collapsed": false,
    "scrolled": false
   },
   "outputs": [
    {
     "data": {
      "text/html": [
       "<div>\n",
       "<table border=\"1\" class=\"dataframe\">\n",
       "  <thead>\n",
       "    <tr style=\"text-align: right;\">\n",
       "      <th></th>\n",
       "      <th>name</th>\n",
       "      <th>team</th>\n",
       "      <th>pos</th>\n",
       "      <th>salary</th>\n",
       "      <th>years</th>\n",
       "      <th>total_value</th>\n",
       "      <th>avg_annual</th>\n",
       "    </tr>\n",
       "  </thead>\n",
       "  <tbody>\n",
       "    <tr>\n",
       "      <th>0</th>\n",
       "      <td>Justin Verlander</td>\n",
       "      <td>DET</td>\n",
       "      <td>SP</td>\n",
       "      <td>$28,000,000</td>\n",
       "      <td>7 (2013-19)</td>\n",
       "      <td>$180,000,000</td>\n",
       "      <td>$25,714,285</td>\n",
       "    </tr>\n",
       "    <tr>\n",
       "      <th>1</th>\n",
       "      <td>Zack Greinke</td>\n",
       "      <td>LAD</td>\n",
       "      <td>SP</td>\n",
       "      <td>$27,000,000</td>\n",
       "      <td>6 (2013-18)</td>\n",
       "      <td>$147,000,000</td>\n",
       "      <td>$24,500,000</td>\n",
       "    </tr>\n",
       "    <tr>\n",
       "      <th>2</th>\n",
       "      <td>Josh Hamilton</td>\n",
       "      <td>LAA</td>\n",
       "      <td>RF</td>\n",
       "      <td>$25,000,000</td>\n",
       "      <td>5 (2013-17)</td>\n",
       "      <td>$125,000,000</td>\n",
       "      <td>$25,000,000</td>\n",
       "    </tr>\n",
       "    <tr>\n",
       "      <th>3</th>\n",
       "      <td>Ryan Howard</td>\n",
       "      <td>PHI</td>\n",
       "      <td>1B</td>\n",
       "      <td>$25,000,000</td>\n",
       "      <td>5 (2012-16)</td>\n",
       "      <td>$125,000,000</td>\n",
       "      <td>$25,000,000</td>\n",
       "    </tr>\n",
       "    <tr>\n",
       "      <th>4</th>\n",
       "      <td>Cliff Lee</td>\n",
       "      <td>PHI</td>\n",
       "      <td>SP</td>\n",
       "      <td>$25,000,000</td>\n",
       "      <td>5 (2011-15)</td>\n",
       "      <td>$120,000,000</td>\n",
       "      <td>$24,000,000</td>\n",
       "    </tr>\n",
       "  </tbody>\n",
       "</table>\n",
       "</div>"
      ],
      "text/plain": [
       "               name team pos        salary        years    total_value  \\\n",
       "0  Justin Verlander  DET  SP  $28,000,000   7 (2013-19)  $180,000,000    \n",
       "1      Zack Greinke  LAD  SP  $27,000,000   6 (2013-18)  $147,000,000    \n",
       "2     Josh Hamilton  LAA  RF  $25,000,000   5 (2013-17)  $125,000,000    \n",
       "3       Ryan Howard  PHI  1B  $25,000,000   5 (2012-16)  $125,000,000    \n",
       "4         Cliff Lee  PHI  SP  $25,000,000   5 (2011-15)  $120,000,000    \n",
       "\n",
       "     avg_annual  \n",
       "0  $25,714,285   \n",
       "1  $24,500,000   \n",
       "2  $25,000,000   \n",
       "3  $25,000,000   \n",
       "4  $24,000,000   "
      ]
     },
     "execution_count": 11,
     "metadata": {},
     "output_type": "execute_result"
    }
   ],
   "source": [
    "salaries_2015.head()"
   ]
  },
  {
   "cell_type": "code",
   "execution_count": 12,
   "metadata": {
    "collapsed": true
   },
   "outputs": [],
   "source": [
    "salaries_2015.salary = salaries_2015.salary.str.replace('$','')\n",
    "salaries_2015.salary = salaries_2015.salary.str.replace(',','')\n",
    "salaries_2015.total_value = salaries_2015.total_value.str.replace('$','')\n",
    "salaries_2015.total_value = salaries_2015.total_value.str.replace(',','')\n",
    "salaries_2015.avg_annual = salaries_2015.avg_annual.str.replace('$','')\n",
    "salaries_2015.avg_annual = salaries_2015.avg_annual.str.replace(',','')"
   ]
  },
  {
   "cell_type": "code",
   "execution_count": 13,
   "metadata": {
    "collapsed": false
   },
   "outputs": [],
   "source": [
    "salaries_2015 = salaries_2015.drop('years', 1)"
   ]
  },
  {
   "cell_type": "code",
   "execution_count": 14,
   "metadata": {
    "collapsed": false,
    "scrolled": true
   },
   "outputs": [
    {
     "data": {
      "text/html": [
       "<div>\n",
       "<table border=\"1\" class=\"dataframe\">\n",
       "  <thead>\n",
       "    <tr style=\"text-align: right;\">\n",
       "      <th></th>\n",
       "      <th>name</th>\n",
       "      <th>team</th>\n",
       "      <th>pos</th>\n",
       "      <th>salary</th>\n",
       "      <th>total_value</th>\n",
       "      <th>avg_annual</th>\n",
       "    </tr>\n",
       "  </thead>\n",
       "  <tbody>\n",
       "    <tr>\n",
       "      <th>0</th>\n",
       "      <td>Justin Verlander</td>\n",
       "      <td>DET</td>\n",
       "      <td>SP</td>\n",
       "      <td>28000000</td>\n",
       "      <td>180000000</td>\n",
       "      <td>25714285</td>\n",
       "    </tr>\n",
       "    <tr>\n",
       "      <th>1</th>\n",
       "      <td>Zack Greinke</td>\n",
       "      <td>LAD</td>\n",
       "      <td>SP</td>\n",
       "      <td>27000000</td>\n",
       "      <td>147000000</td>\n",
       "      <td>24500000</td>\n",
       "    </tr>\n",
       "    <tr>\n",
       "      <th>2</th>\n",
       "      <td>Josh Hamilton</td>\n",
       "      <td>LAA</td>\n",
       "      <td>RF</td>\n",
       "      <td>25000000</td>\n",
       "      <td>125000000</td>\n",
       "      <td>25000000</td>\n",
       "    </tr>\n",
       "    <tr>\n",
       "      <th>3</th>\n",
       "      <td>Ryan Howard</td>\n",
       "      <td>PHI</td>\n",
       "      <td>1B</td>\n",
       "      <td>25000000</td>\n",
       "      <td>125000000</td>\n",
       "      <td>25000000</td>\n",
       "    </tr>\n",
       "    <tr>\n",
       "      <th>4</th>\n",
       "      <td>Cliff Lee</td>\n",
       "      <td>PHI</td>\n",
       "      <td>SP</td>\n",
       "      <td>25000000</td>\n",
       "      <td>120000000</td>\n",
       "      <td>24000000</td>\n",
       "    </tr>\n",
       "  </tbody>\n",
       "</table>\n",
       "</div>"
      ],
      "text/plain": [
       "               name team pos     salary total_value avg_annual\n",
       "0  Justin Verlander  DET  SP  28000000   180000000   25714285 \n",
       "1      Zack Greinke  LAD  SP  27000000   147000000   24500000 \n",
       "2     Josh Hamilton  LAA  RF  25000000   125000000   25000000 \n",
       "3       Ryan Howard  PHI  1B  25000000   125000000   25000000 \n",
       "4         Cliff Lee  PHI  SP  25000000   120000000   24000000 "
      ]
     },
     "execution_count": 14,
     "metadata": {},
     "output_type": "execute_result"
    }
   ],
   "source": [
    "salaries_2015.head()"
   ]
  },
  {
   "cell_type": "code",
   "execution_count": 15,
   "metadata": {
    "collapsed": false
   },
   "outputs": [],
   "source": [
    "salaries_2015['salary'] = salaries_2015.salary.astype(float)\n",
    "salaries_2015['total_value'] = salaries_2015.total_value.astype(float)\n",
    "salaries_2015['avg_annual'] = salaries_2015.avg_annual.astype(float)"
   ]
  },
  {
   "cell_type": "code",
   "execution_count": 16,
   "metadata": {
    "collapsed": false
   },
   "outputs": [
    {
     "data": {
      "text/html": [
       "<div>\n",
       "<table border=\"1\" class=\"dataframe\">\n",
       "  <thead>\n",
       "    <tr style=\"text-align: right;\">\n",
       "      <th></th>\n",
       "      <th>name</th>\n",
       "      <th>team</th>\n",
       "      <th>pos</th>\n",
       "      <th>salary</th>\n",
       "      <th>total_value</th>\n",
       "      <th>avg_annual</th>\n",
       "    </tr>\n",
       "  </thead>\n",
       "  <tbody>\n",
       "    <tr>\n",
       "      <th>0</th>\n",
       "      <td>Justin Verlander</td>\n",
       "      <td>DET</td>\n",
       "      <td>SP</td>\n",
       "      <td>28000000.0</td>\n",
       "      <td>180000000.0</td>\n",
       "      <td>25714285.0</td>\n",
       "    </tr>\n",
       "    <tr>\n",
       "      <th>1</th>\n",
       "      <td>Zack Greinke</td>\n",
       "      <td>LAD</td>\n",
       "      <td>SP</td>\n",
       "      <td>27000000.0</td>\n",
       "      <td>147000000.0</td>\n",
       "      <td>24500000.0</td>\n",
       "    </tr>\n",
       "    <tr>\n",
       "      <th>2</th>\n",
       "      <td>Josh Hamilton</td>\n",
       "      <td>LAA</td>\n",
       "      <td>RF</td>\n",
       "      <td>25000000.0</td>\n",
       "      <td>125000000.0</td>\n",
       "      <td>25000000.0</td>\n",
       "    </tr>\n",
       "    <tr>\n",
       "      <th>3</th>\n",
       "      <td>Ryan Howard</td>\n",
       "      <td>PHI</td>\n",
       "      <td>1B</td>\n",
       "      <td>25000000.0</td>\n",
       "      <td>125000000.0</td>\n",
       "      <td>25000000.0</td>\n",
       "    </tr>\n",
       "    <tr>\n",
       "      <th>4</th>\n",
       "      <td>Cliff Lee</td>\n",
       "      <td>PHI</td>\n",
       "      <td>SP</td>\n",
       "      <td>25000000.0</td>\n",
       "      <td>120000000.0</td>\n",
       "      <td>24000000.0</td>\n",
       "    </tr>\n",
       "  </tbody>\n",
       "</table>\n",
       "</div>"
      ],
      "text/plain": [
       "               name team pos      salary  total_value  avg_annual\n",
       "0  Justin Verlander  DET  SP  28000000.0  180000000.0  25714285.0\n",
       "1      Zack Greinke  LAD  SP  27000000.0  147000000.0  24500000.0\n",
       "2     Josh Hamilton  LAA  RF  25000000.0  125000000.0  25000000.0\n",
       "3       Ryan Howard  PHI  1B  25000000.0  125000000.0  25000000.0\n",
       "4         Cliff Lee  PHI  SP  25000000.0  120000000.0  24000000.0"
      ]
     },
     "execution_count": 16,
     "metadata": {},
     "output_type": "execute_result"
    }
   ],
   "source": [
    "salaries_2015.head()"
   ]
  },
  {
   "cell_type": "code",
   "execution_count": 17,
   "metadata": {
    "collapsed": true
   },
   "outputs": [],
   "source": [
    "salaries_2015.to_csv('salaries_2015.csv', sep='\\t', encoding='utf-8')"
   ]
  }
 ],
 "metadata": {
  "anaconda-cloud": {},
  "kernelspec": {
   "display_name": "Python [Root]",
   "language": "python",
   "name": "Python [Root]"
  },
  "language_info": {
   "codemirror_mode": {
    "name": "ipython",
    "version": 2
   },
   "file_extension": ".py",
   "mimetype": "text/x-python",
   "name": "python",
   "nbconvert_exporter": "python",
   "pygments_lexer": "ipython2",
   "version": "2.7.11"
  }
 },
 "nbformat": 4,
 "nbformat_minor": 0
}
