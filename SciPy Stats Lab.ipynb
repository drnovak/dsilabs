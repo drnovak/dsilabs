{
 "cells": [
  {
   "cell_type": "markdown",
   "metadata": {},
   "source": [
    "**Generate a list of random numbers**\n",
    "\n",
    "**Use scipy.stats 'describe' to find: number of elements, min, max, variance, skew, and kurtosis.**"
   ]
  },
  {
   "cell_type": "code",
   "execution_count": 1,
   "metadata": {
    "collapsed": false
   },
   "outputs": [],
   "source": [
    "import scipy as sp\n",
    "import numpy as np\n",
    "import matplotlib as mpl\n",
    "import matplotlib.pyplot as plt\n",
    "from scipy import stats\n",
    "%matplotlib inline"
   ]
  },
  {
   "cell_type": "code",
   "execution_count": 2,
   "metadata": {
    "collapsed": true
   },
   "outputs": [],
   "source": [
    "from numpy import random\n",
    "random = np.random.randint(1, high=100, size=1000, dtype='l')"
   ]
  },
  {
   "cell_type": "code",
   "execution_count": 3,
   "metadata": {
    "collapsed": false,
    "scrolled": false
   },
   "outputs": [
    {
     "data": {
      "text/plain": [
       "array([99, 68, 17, 31, 35, 95, 18, 15, 76, 33, 92, 93, 87, 34, 14, 37, 40,\n",
       "       47, 10, 68, 49, 77, 73, 74, 99, 60, 50, 49, 14, 71, 39, 91, 14, 89,\n",
       "       60, 22, 29, 86, 87, 64, 95, 44, 42, 76, 11, 43, 68, 24,  8, 67, 37,\n",
       "       13, 89, 52, 36, 38, 41, 16, 42, 28, 31, 17, 74, 84, 94, 29, 86, 90,\n",
       "       30, 72, 56, 94, 92, 16, 90, 80, 53, 39, 14, 24, 13, 51,  2,  4, 82,\n",
       "       96, 87, 17, 71,  2, 28, 58, 29, 35, 77, 33, 46, 77, 59, 34, 43, 26,\n",
       "       96, 45, 65, 53, 29, 51, 92, 20,  2, 43, 80, 73, 99,  6, 46, 45, 17,\n",
       "       73, 81, 69, 63, 86, 23, 54, 16, 56, 76, 51, 46, 90, 46, 78, 78, 68,\n",
       "       91, 99, 22, 15, 67,  5, 66, 84, 33, 58, 79, 88, 47, 11,  4, 89, 77,\n",
       "       56,  7, 87, 97, 68, 82, 48,  4, 52,  5, 65, 31, 87, 75, 45, 32, 93,\n",
       "       71, 70, 16, 14,  8, 72, 62, 60, 81, 50, 66, 30, 19, 87, 19, 20, 12,\n",
       "       13, 24, 67, 77, 11, 74, 19, 59, 83,  6,  2, 18,  7, 86, 67, 41, 16,\n",
       "       29, 54, 75, 22,  3, 17, 55,  7, 60, 22, 49, 62, 67, 59, 60,  3, 99,\n",
       "       29, 58, 39, 15, 76, 93,  9, 37, 75, 81, 16, 54, 86, 22, 29, 85, 82,\n",
       "       32, 51, 55, 62, 35, 56, 21, 45, 34, 97, 50, 75, 14, 91,  1, 75, 67,\n",
       "       25, 90, 94, 26, 29, 80, 52, 58, 94, 60, 51, 25, 34, 27, 53, 88,  9,\n",
       "       39, 59, 91, 17, 26, 69, 24, 38, 74,  4, 65, 31, 59,  5, 18, 87, 79,\n",
       "       20,  7, 82, 83, 73, 27, 27, 31, 48, 22,  3, 55,  1, 95, 69, 94, 48,\n",
       "       61, 71, 51,  5,  1, 76, 65, 41, 45, 75, 22, 52, 16, 96, 76, 72, 34,\n",
       "       62, 28, 20, 69, 20, 30, 93, 66, 78, 94, 55,  3, 55, 40, 43,  8, 28,\n",
       "       41,  1, 98, 70, 51,  9, 19,  6, 11, 56, 25,  4, 18, 82, 54,  2, 27,\n",
       "       56, 66, 66, 31, 57, 57, 20, 87, 71, 85, 37, 79, 16, 35, 64, 75, 48,\n",
       "       92, 26, 63,  6, 30, 58, 60, 22, 57, 21, 86, 62, 47, 76, 76, 85, 56,\n",
       "       68,  3, 62, 81, 40, 89,  7, 17, 19, 77, 10, 70, 32, 78, 78, 20, 21,\n",
       "       88, 19, 32,  6, 26, 22, 23, 65, 85, 65, 45, 27,  7, 38,  3, 88, 52,\n",
       "       49, 34, 85, 86,  6, 92, 72,  3, 10, 79, 45, 74, 69, 29, 84, 55, 40,\n",
       "       75, 41, 58,  8, 73, 15, 65, 49,  6, 89, 65, 17, 41, 73, 55,  4, 72,\n",
       "       10, 20, 93, 15, 97, 61, 76, 69, 70,  9, 20, 39, 38, 37, 94, 67, 47,\n",
       "       72, 92, 68, 60, 45, 22, 22,  9, 38, 62, 59, 55, 59, 34, 87, 49, 77,\n",
       "       11, 40, 24,  1, 41,  3,  8, 14, 67, 76, 56, 74, 36, 68, 24, 77, 68,\n",
       "       74, 64, 55, 17,  2, 96, 57, 48, 82, 39, 21, 70, 98, 59, 49, 97, 25,\n",
       "       85, 67, 20, 43, 16, 32, 38,  6, 78, 84, 85, 91, 39, 95, 51, 83, 27,\n",
       "       35, 78, 93, 43, 96, 91, 39, 34, 62, 96, 87,  8, 45, 58, 85, 33, 16,\n",
       "       14, 20, 84, 34, 71, 74, 61, 25, 99, 98, 92, 39, 35, 64, 23, 95, 82,\n",
       "       50, 82,  6, 63, 94, 82, 17, 68, 50, 87,  6, 87, 83, 92,  4, 92, 46,\n",
       "       88, 55,  8, 95, 81, 92, 61, 60, 75, 60,  7, 63, 15, 83, 13, 45, 64,\n",
       "       59, 77, 38,  3,  2, 78, 36, 69, 48, 76, 75, 53, 72,  9, 68, 87, 27,\n",
       "       69, 60, 69, 86, 43, 91, 73, 58, 90, 75, 26,  9, 10, 33, 92, 42, 53,\n",
       "        5, 81, 20, 48, 31, 49, 74, 55, 94,  3, 97, 64, 65,  1,  9, 45, 90,\n",
       "       24, 12, 26, 28, 15,  6, 76, 67, 71, 24, 19, 59, 37, 14, 99, 50, 33,\n",
       "       43, 21, 42, 63, 12,  5, 94, 62, 60, 52, 35, 65,  7, 65,  5, 64, 14,\n",
       "        4, 66, 80, 48, 27, 15, 89, 90, 25, 15, 34, 21, 66, 42, 86, 96, 19,\n",
       "       70, 60, 64, 15, 66, 81, 45,  8, 13, 59, 55, 89, 21, 61, 61, 75, 11,\n",
       "       24, 84, 83, 86, 99, 12, 39, 90, 68, 10, 57, 65, 60, 15, 15, 56, 95,\n",
       "       72, 27, 10, 83, 90, 14, 45, 54, 58, 79, 37, 70, 64, 66,  1, 66, 22,\n",
       "       27, 21, 11, 81, 68, 69, 10,  7, 27, 10, 52, 41, 91, 31,  2, 36, 54,\n",
       "       34, 46, 90, 53, 40, 62, 84, 19, 57, 43, 86,  7, 79, 60, 32, 10, 87,\n",
       "       40, 61, 13, 10, 74, 52, 85, 76,  7,  1, 19, 12, 96, 81, 37,  2, 66,\n",
       "        8, 50,  2, 60, 31, 63, 93,  1, 97, 70, 87, 40, 52, 17, 81, 36, 79,\n",
       "       60, 63, 22, 46, 21,  9, 40, 23, 56, 94, 85, 17, 47,  7, 62, 39, 78,\n",
       "       29, 61,  2, 68, 88, 41, 30, 32, 70, 34, 42, 44, 67, 64, 73, 14,  7,\n",
       "       87, 61,  3, 63,  2, 13, 42, 38, 44, 45, 94, 50, 36, 92, 26, 76, 96,\n",
       "       32, 33, 58, 15, 73, 30, 22, 45, 99, 94,  5, 54, 18, 14, 47, 88, 70,\n",
       "       59, 35, 21, 45, 69, 55, 66, 91, 25, 32, 48, 38, 16, 60, 31, 21, 22,\n",
       "       49, 93, 48, 49, 99, 52, 57, 32, 41, 97, 83, 37, 43, 52, 86, 88, 35,\n",
       "       77, 79, 23, 22, 27, 82, 88, 77, 90, 97, 63, 84, 19, 72, 30, 14, 64,\n",
       "       53, 73, 99, 51, 90,  3, 63, 59, 15, 10, 31,  6, 42, 75, 33, 13, 28,\n",
       "       43, 32,  7,  8, 43, 49, 45, 23, 87, 43,  4, 41, 87, 44, 82, 88, 21,\n",
       "       90, 26,  8, 49, 84, 50, 70, 64, 63, 12, 16, 21, 73, 88])"
      ]
     },
     "execution_count": 3,
     "metadata": {},
     "output_type": "execute_result"
    }
   ],
   "source": [
    "random"
   ]
  },
  {
   "cell_type": "code",
   "execution_count": 4,
   "metadata": {
    "collapsed": false
   },
   "outputs": [
    {
     "data": {
      "text/plain": [
       "49.856000000000002"
      ]
     },
     "execution_count": 4,
     "metadata": {},
     "output_type": "execute_result"
    }
   ],
   "source": [
    "mean = sp.mean(random)\n",
    "mean"
   ]
  },
  {
   "cell_type": "code",
   "execution_count": 5,
   "metadata": {
    "collapsed": false
   },
   "outputs": [
    {
     "data": {
      "text/plain": [
       "51.0"
      ]
     },
     "execution_count": 5,
     "metadata": {},
     "output_type": "execute_result"
    }
   ],
   "source": [
    "median = sp.median(random)\n",
    "median"
   ]
  },
  {
   "cell_type": "code",
   "execution_count": 6,
   "metadata": {
    "collapsed": false
   },
   "outputs": [
    {
     "data": {
      "text/plain": [
       "1"
      ]
     },
     "execution_count": 6,
     "metadata": {},
     "output_type": "execute_result"
    }
   ],
   "source": [
    "min = sp.stats.tmin(random)\n",
    "min"
   ]
  },
  {
   "cell_type": "code",
   "execution_count": 7,
   "metadata": {
    "collapsed": false
   },
   "outputs": [
    {
     "data": {
      "text/plain": [
       "99"
      ]
     },
     "execution_count": 7,
     "metadata": {},
     "output_type": "execute_result"
    }
   ],
   "source": [
    "max = sp.stats.tmax(random)\n",
    "max"
   ]
  },
  {
   "cell_type": "code",
   "execution_count": 8,
   "metadata": {
    "collapsed": false
   },
   "outputs": [
    {
     "data": {
      "text/plain": [
       "ModeResult(mode=array([60]), count=array([18]))"
      ]
     },
     "execution_count": 8,
     "metadata": {},
     "output_type": "execute_result"
    }
   ],
   "source": [
    "mode = sp.stats.mode(random)\n",
    "mode"
   ]
  },
  {
   "cell_type": "code",
   "execution_count": 9,
   "metadata": {
    "collapsed": false
   },
   "outputs": [
    {
     "data": {
      "text/plain": [
       "813.33259659659655"
      ]
     },
     "execution_count": 9,
     "metadata": {},
     "output_type": "execute_result"
    }
   ],
   "source": [
    "var = sp.stats.tvar(random)\n",
    "var"
   ]
  },
  {
   "cell_type": "code",
   "execution_count": 10,
   "metadata": {
    "collapsed": false
   },
   "outputs": [
    {
     "data": {
      "text/plain": [
       "28.518986598345261"
      ]
     },
     "execution_count": 10,
     "metadata": {},
     "output_type": "execute_result"
    }
   ],
   "source": [
    "std = sp.stats.tstd(random)\n",
    "std"
   ]
  },
  {
   "cell_type": "code",
   "execution_count": 11,
   "metadata": {
    "collapsed": false
   },
   "outputs": [
    {
     "data": {
      "text/plain": [
       "0.90184954210588619"
      ]
     },
     "execution_count": 11,
     "metadata": {},
     "output_type": "execute_result"
    }
   ],
   "source": [
    "se = sp.stats.tsem(random)\n",
    "se"
   ]
  },
  {
   "cell_type": "code",
   "execution_count": 12,
   "metadata": {
    "collapsed": false
   },
   "outputs": [
    {
     "data": {
      "text/plain": [
       "-1.2143970624443876"
      ]
     },
     "execution_count": 12,
     "metadata": {},
     "output_type": "execute_result"
    }
   ],
   "source": [
    "kurt = sp.stats.kurtosis(random)\n",
    "kurt"
   ]
  },
  {
   "cell_type": "code",
   "execution_count": 13,
   "metadata": {
    "collapsed": false,
    "scrolled": true
   },
   "outputs": [
    {
     "data": {
      "text/plain": [
       "(array([ 108.,  101.,   95.,   95.,   88.,   96.,  121.,  103.,  100.,   93.]),\n",
       " array([  1. ,  10.8,  20.6,  30.4,  40.2,  50. ,  59.8,  69.6,  79.4,\n",
       "         89.2,  99. ]),\n",
       " <a list of 10 Patch objects>)"
      ]
     },
     "execution_count": 13,
     "metadata": {},
     "output_type": "execute_result"
    },
    {
     "data": {
      "image/png": "[encoded data removed]",
      "text/plain": [
       "<matplotlib.figure.Figure at 0x10e6e53d0>"
      ]
     },
     "metadata": {},
     "output_type": "display_data"
    }
   ],
   "source": [
    "plt.hist(random)"
   ]
  },
  {
   "cell_type": "code",
   "execution_count": 14,
   "metadata": {
    "collapsed": true
   },
   "outputs": [],
   "source": [
    "rand = np.random.normal(loc=0.0, scale=1.0, size=1000)"
   ]
  },
  {
   "cell_type": "code",
   "execution_count": 15,
   "metadata": {
    "collapsed": false
   },
   "outputs": [
    {
     "data": {
      "text/plain": [
       "0.016153259287285029"
      ]
     },
     "execution_count": 15,
     "metadata": {},
     "output_type": "execute_result"
    }
   ],
   "source": [
    "rand.mean()"
   ]
  },
  {
   "cell_type": "code",
   "execution_count": 16,
   "metadata": {
    "collapsed": false
   },
   "outputs": [
    {
     "data": {
      "text/plain": [
       "-2.9911239604072781"
      ]
     },
     "execution_count": 16,
     "metadata": {},
     "output_type": "execute_result"
    }
   ],
   "source": [
    "rand.min()"
   ]
  },
  {
   "cell_type": "code",
   "execution_count": 17,
   "metadata": {
    "collapsed": false
   },
   "outputs": [
    {
     "data": {
      "text/plain": [
       "3.2608609320734288"
      ]
     },
     "execution_count": 17,
     "metadata": {},
     "output_type": "execute_result"
    }
   ],
   "source": [
    "rand.max()"
   ]
  },
  {
   "cell_type": "code",
   "execution_count": 18,
   "metadata": {
    "collapsed": false
   },
   "outputs": [
    {
     "data": {
      "text/plain": [
       "1.0141781012393833"
      ]
     },
     "execution_count": 18,
     "metadata": {},
     "output_type": "execute_result"
    }
   ],
   "source": [
    "rand.std()"
   ]
  },
  {
   "cell_type": "code",
   "execution_count": 19,
   "metadata": {
    "collapsed": false
   },
   "outputs": [
    {
     "data": {
      "text/plain": [
       "(array([  10.,   33.,   85.,  189.,  235.,  195.,  167.,   64.,   17.,    5.]),\n",
       " array([-2.99112396, -2.36592547, -1.74072698, -1.11552849, -0.49033   ,\n",
       "         0.13486849,  0.76006698,  1.38526546,  2.01046395,  2.63566244,\n",
       "         3.26086093]),\n",
       " <a list of 10 Patch objects>)"
      ]
     },
     "execution_count": 19,
     "metadata": {},
     "output_type": "execute_result"
    },
    {
     "data": {
      "image/png": "[encoded data removed]",
      "text/plain": [
       "<matplotlib.figure.Figure at 0x10e7c46d0>"
      ]
     },
     "metadata": {},
     "output_type": "display_data"
    }
   ],
   "source": [
    "plt.hist(rand)"
   ]
  },
  {
   "cell_type": "code",
   "execution_count": 20,
   "metadata": {
    "collapsed": false
   },
   "outputs": [
    {
     "data": {
      "text/plain": [
       "(array([  10.,   33.,   85.,  189.,  235.,  195.,  167.,   64.,   17.,    5.]),\n",
       " array([-2.99112396, -2.36592547, -1.74072698, -1.11552849, -0.49033   ,\n",
       "         0.13486849,  0.76006698,  1.38526546,  2.01046395,  2.63566244,\n",
       "         3.26086093]),\n",
       " <a list of 10 Patch objects>)"
      ]
     },
     "execution_count": 20,
     "metadata": {},
     "output_type": "execute_result"
    },
    {
     "data": {
      "image/png": "[encoded data removed]",
      "text/plain": [
       "<matplotlib.figure.Figure at 0x1119d8d10>"
      ]
     },
     "metadata": {},
     "output_type": "display_data"
    }
   ],
   "source": [
    "plt.hist(rand, fill=False)"
   ]
  },
  {
   "cell_type": "code",
   "execution_count": 21,
   "metadata": {
    "collapsed": false
   },
   "outputs": [
    {
     "data": {
      "image/png": "[encoded data removed]",
      "text/plain": [
       "<matplotlib.figure.Figure at 0x10e7d1a90>"
      ]
     },
     "metadata": {},
     "output_type": "display_data"
    }
   ],
   "source": [
    "mu, sigma = 100, 15\n",
    "x = mu + sigma * np.random.randn(100000)\n",
    "\n",
    "# the histogram of the data\n",
    "n, bins, patches = plt.hist(x, 50, normed=1, facecolor='b', alpha=0.75)\n",
    "\n",
    "plt.xlabel('IQ Score')\n",
    "plt.ylabel('Probability')\n",
    "plt.title('IQ Histogram')\n",
    "plt.text(60, .025, r'$\\mu=100,\\ \\sigma=15$')\n",
    "plt.axis([40, 160, 0, 0.03])\n",
    "plt.grid(False)\n",
    "plt.show()"
   ]
  }
 ],
 "metadata": {
  "kernelspec": {
   "display_name": "Python [Root]",
   "language": "python",
   "name": "Python [Root]"
  },
  "language_info": {
   "codemirror_mode": {
    "name": "ipython",
    "version": 2
   },
   "file_extension": ".py",
   "mimetype": "text/x-python",
   "name": "python",
   "nbconvert_exporter": "python",
   "pygments_lexer": "ipython2",
   "version": "2.7.11"
  }
 },
 "nbformat": 4,
 "nbformat_minor": 0
}
