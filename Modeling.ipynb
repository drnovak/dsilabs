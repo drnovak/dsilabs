{
 "cells": [
  {
   "cell_type": "code",
   "execution_count": null,
   "metadata": {
    "collapsed": true
   },
   "outputs": [],
   "source": [
    "import pandas as pd\n",
    "import matplotlib.pyplot as plt\n",
    "import numpy as np\n",
    "from sklearn import linear_model\n",
    "import seaborn as sns\n",
    "%matplotlib inline"
   ]
  },
  {
   "cell_type": "code",
   "execution_count": null,
   "metadata": {
    "collapsed": true
   },
   "outputs": [],
   "source": [
    "annual_attendance = pd.read_csv('annual_attendance_2015.csv', sep='\\t', index_col=0, encoding='utf-8')\n",
    "home_games = pd.read_csv('home_games_2015.csv', sep='\\t',index_col=0,  encoding='utf-8')\n",
    "fci = pd.read_csv('fci2015.csv', sep='\\t', index_col=0, encoding='utf-8')\n",
    "google = pd.read_csv('google_interest_2015.csv', sep='\\t', index_col=0, encoding='utf-8')\n",
    "final_standings = pd.read_csv('standings_2015.csv', sep='\\t', index_col=0, encoding='utf-8')"
   ]
  },
  {
   "cell_type": "code",
   "execution_count": null,
   "metadata": {
    "collapsed": true
   },
   "outputs": [],
   "source": [
    "lm = linear_model.LinearRegression()\n",
    "X = home_games[['game_time', 'games_back', 'home_game', 'losses', 'night_game', \n",
    "                'opp', 'runs_against', 'runs_scored', 'streak', 'win', 'wins']]\n",
    "y = home_games['attendance']\n",
    "\n",
    "lm = linear_model.LinearRegression()\n",
    "model = lm.fit(X, y)\n",
    "predictions = model.predict(X)\n",
    "print \"First LR:\", model.score(X, y)"
   ]
  },
  {
   "cell_type": "code",
   "execution_count": null,
   "metadata": {
    "collapsed": true
   },
   "outputs": [],
   "source": [
    "#Testing one variable at a time\n",
    "\n",
    "Xs = ['game_time', 'games_back', 'losses_x', 'night_game', 'opp', 'runs_against', 'runs_scored', 'streak', \n",
    "      'team', 'win', 'wins_x', 'avg_ticket', 'pct_change', 'avg_prem_ticket', 'beer', 'beer_oz', 'soft_drink', \n",
    "      'soft_drink_oz', 'hot_dog', 'parking', 'hat', 'fci','fci_pct_change', 'bat_age', 'pit_age', 'bpf', 'ppf', \n",
    "      'allstars', 'total_allstars', 'payroll_2015', 'wins_y', 'losses_y', 'win_loss', 'runs', 'runs_allowed', \n",
    "      'run_differential', 'home_success', 'road_success', 'vs_over_500', 'vs_under_500']\n",
    "\n",
    "for i in range(len(Xs)):\n",
    "    y = df['attendance'].values\n",
    "    X = df[Xs[i]].values.reshape(-1, 1)\n",
    "\n",
    "    lm = linear_model.LinearRegression()\n",
    "    model = lm.fit(X, y)\n",
    "    predictions = model.predict(X)\n",
    "\n",
    "    plt.scatter(y, predictions)\n",
    "    plt.xlabel(\"Values\")\n",
    "    plt.ylabel(\"Predictions\")\n",
    "    plt.show()\n",
    "    print 'Score for ', Xs[i], 'is: ', model.score(X, y)\n",
    "    print ''"
   ]
  },
  {
   "cell_type": "code",
   "execution_count": null,
   "metadata": {
    "collapsed": true
   },
   "outputs": [],
   "source": [
    "from sklearn.ensemble import RandomForestRegressor\n",
    "from sklearn.cross_validation import train_test_split\n",
    "import numpy as np\n",
    "\n",
    "Xs = ['game_time', 'games_back', 'losses_x', 'night_game', 'opp', 'runs_against', 'runs_scored', 'streak', \n",
    "      'team', 'win', 'wins_x', 'avg_ticket', 'pct_change', 'avg_prem_ticket', 'beer', 'beer_oz', 'soft_drink', \n",
    "      'soft_drink_oz', 'hot_dog', 'parking', u'hat', u'fci','fci_pct_change', 'bat_age', 'pit_age', 'bpf', 'ppf', \n",
    "      'allstars', 'total_allstars', 'payroll_2015', 'wins_y', 'losses_y', 'win_loss', 'runs', 'runs_allowed', \n",
    "      'run_differential', 'home_success', 'road_success', 'vs_over_500', 'vs_under_500']\n",
    "\n",
    "y = df['attendance']\n",
    "\n",
    "set_of_scores = []\n",
    "\n",
    "rf = RandomForestRegressor(n_estimators = 1000, random_state = 42)\n",
    "X_train, X_test, y_train, y_test = train_test_split(df[Xs], df['attendance'], test_size=.25, random_state=0)\n",
    "model.fit(X_train, y_train)\n",
    "model_score = model.predict(X_test)\n",
    "\n",
    "print 'The score is: %s' % (model_score)\n",
    "set_of_scores.append(model_score)\n",
    "print 'The average score is: %s' % np.mean(set_of_scores)"
   ]
  },
  {
   "cell_type": "code",
   "execution_count": null,
   "metadata": {
    "collapsed": true
   },
   "outputs": [],
   "source": [
    "model.score(X_test, y_test)"
   ]
  },
  {
   "cell_type": "code",
   "execution_count": null,
   "metadata": {
    "collapsed": true
   },
   "outputs": [],
   "source": [
    "import matplotlib.pyplot as plt \n",
    "%matplotlib inline\n",
    "\n",
    "plt.scatter(y_test, model_score)"
   ]
  },
  {
   "cell_type": "code",
   "execution_count": null,
   "metadata": {
    "collapsed": true
   },
   "outputs": [],
   "source": [
    "from sklearn.grid_search import GridSearchCV\n",
    "\n",
    "Xs = df[['game_time', 'games_back', 'losses_x', 'night_game', 'opp', 'runs_against', 'runs_scored', \n",
    "           'streak', 'team', 'win', 'wins_x', 'avg_ticket', 'pct_change', 'avg_prem_ticket', 'beer', \n",
    "           'beer_oz', 'soft_drink', 'soft_drink_oz', 'hot_dog', 'parking', 'hat', 'fci','fci_pct_change',\n",
    "           'attend', 'attend_per_game', 'bat_age', 'pit_age', 'bpf', 'ppf', 'allstars', 'total_allstars',\n",
    "           'payroll_2015', 'wins_y', 'losses_y', 'win_loss', 'runs', 'runs_allowed', 'run_differential',\n",
    "           'home_success', 'road_success', 'vs_over_500', 'vs_under_500']]\n",
    "\n",
    "y = df['attendance']\n",
    "\n",
    "rfs = RandomForestRegressor()\n",
    "param_grid = {'n_estimators':[10, 100, 250, 500, 750, 1000], 'max_features':[3, 5, 7, 9, 11],\n",
    "           'max_depth': [3, 5, 7, 9, 11]}\n",
    "\n",
    "CV_rfs = GridSearchCV(estimator=rfs, param_grid=param_grid, cv=5)\n",
    "CV_rfs.fit(Xs, y)\n",
    "print CV_rfs.best_params_\n",
    "print CV_rfs.best_score_"
   ]
  },
  {
   "cell_type": "code",
   "execution_count": null,
   "metadata": {
    "collapsed": true
   },
   "outputs": [],
   "source": []
  }
 ],
 "metadata": {
  "anaconda-cloud": {},
  "kernelspec": {
   "display_name": "Python [Root]",
   "language": "python",
   "name": "Python [Root]"
  },
  "language_info": {
   "codemirror_mode": {
    "name": "ipython",
    "version": 2
   },
   "file_extension": ".py",
   "mimetype": "text/x-python",
   "name": "python",
   "nbconvert_exporter": "python",
   "pygments_lexer": "ipython2",
   "version": "2.7.11"
  }
 },
 "nbformat": 4,
 "nbformat_minor": 0
}
