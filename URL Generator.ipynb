{
 "cells": [
  {
   "cell_type": "code",
   "execution_count": 3,
   "metadata": {
    "collapsed": false
   },
   "outputs": [
    {
     "name": "stdout",
     "output_type": "stream",
     "text": [
      "['http://www.baseball-reference.com/games/standings.cgi?year=2012&month=4&day=1&submit=Submit+Date', 'http://www.baseball-reference.com/games/standings.cgi?year=2012&month=5&day=1&submit=Submit+Date', 'http://www.baseball-reference.com/games/standings.cgi?year=2012&month=6&day=1&submit=Submit+Date', 'http://www.baseball-reference.com/games/standings.cgi?year=2012&month=7&day=1&submit=Submit+Date', 'http://www.baseball-reference.com/games/standings.cgi?year=2012&month=8&day=1&submit=Submit+Date', 'http://www.baseball-reference.com/games/standings.cgi?year=2012&month=9&day=1&submit=Submit+Date', 'http://www.baseball-reference.com/games/standings.cgi?year=2013&month=4&day=1&submit=Submit+Date', 'http://www.baseball-reference.com/games/standings.cgi?year=2013&month=5&day=1&submit=Submit+Date', 'http://www.baseball-reference.com/games/standings.cgi?year=2013&month=6&day=1&submit=Submit+Date', 'http://www.baseball-reference.com/games/standings.cgi?year=2013&month=7&day=1&submit=Submit+Date', 'http://www.baseball-reference.com/games/standings.cgi?year=2013&month=8&day=1&submit=Submit+Date', 'http://www.baseball-reference.com/games/standings.cgi?year=2013&month=9&day=1&submit=Submit+Date', 'http://www.baseball-reference.com/games/standings.cgi?year=2014&month=4&day=1&submit=Submit+Date', 'http://www.baseball-reference.com/games/standings.cgi?year=2014&month=5&day=1&submit=Submit+Date', 'http://www.baseball-reference.com/games/standings.cgi?year=2014&month=6&day=1&submit=Submit+Date', 'http://www.baseball-reference.com/games/standings.cgi?year=2014&month=7&day=1&submit=Submit+Date', 'http://www.baseball-reference.com/games/standings.cgi?year=2014&month=8&day=1&submit=Submit+Date', 'http://www.baseball-reference.com/games/standings.cgi?year=2014&month=9&day=1&submit=Submit+Date', 'http://www.baseball-reference.com/games/standings.cgi?year=2015&month=4&day=1&submit=Submit+Date', 'http://www.baseball-reference.com/games/standings.cgi?year=2015&month=5&day=1&submit=Submit+Date', 'http://www.baseball-reference.com/games/standings.cgi?year=2015&month=6&day=1&submit=Submit+Date', 'http://www.baseball-reference.com/games/standings.cgi?year=2015&month=7&day=1&submit=Submit+Date', 'http://www.baseball-reference.com/games/standings.cgi?year=2015&month=8&day=1&submit=Submit+Date', 'http://www.baseball-reference.com/games/standings.cgi?year=2015&month=9&day=1&submit=Submit+Date', 'http://www.baseball-reference.com/games/standings.cgi?year=2016&month=4&day=1&submit=Submit+Date', 'http://www.baseball-reference.com/games/standings.cgi?year=2016&month=5&day=1&submit=Submit+Date', 'http://www.baseball-reference.com/games/standings.cgi?year=2016&month=6&day=1&submit=Submit+Date', 'http://www.baseball-reference.com/games/standings.cgi?year=2016&month=7&day=1&submit=Submit+Date', 'http://www.baseball-reference.com/games/standings.cgi?year=2016&month=8&day=1&submit=Submit+Date', 'http://www.baseball-reference.com/games/standings.cgi?year=2016&month=9&day=1&submit=Submit+Date']\n"
     ]
    },
    {
     "data": {
      "text/plain": [
       "['http://www.baseball-reference.com/games/standings.cgi?year=2012&month=4&day=1&submit=Submit+Date',\n",
       " 'http://www.baseball-reference.com/games/standings.cgi?year=2012&month=5&day=1&submit=Submit+Date',\n",
       " 'http://www.baseball-reference.com/games/standings.cgi?year=2012&month=6&day=1&submit=Submit+Date',\n",
       " 'http://www.baseball-reference.com/games/standings.cgi?year=2012&month=7&day=1&submit=Submit+Date',\n",
       " 'http://www.baseball-reference.com/games/standings.cgi?year=2012&month=8&day=1&submit=Submit+Date',\n",
       " 'http://www.baseball-reference.com/games/standings.cgi?year=2012&month=9&day=1&submit=Submit+Date',\n",
       " 'http://www.baseball-reference.com/games/standings.cgi?year=2013&month=4&day=1&submit=Submit+Date',\n",
       " 'http://www.baseball-reference.com/games/standings.cgi?year=2013&month=5&day=1&submit=Submit+Date',\n",
       " 'http://www.baseball-reference.com/games/standings.cgi?year=2013&month=6&day=1&submit=Submit+Date',\n",
       " 'http://www.baseball-reference.com/games/standings.cgi?year=2013&month=7&day=1&submit=Submit+Date',\n",
       " 'http://www.baseball-reference.com/games/standings.cgi?year=2013&month=8&day=1&submit=Submit+Date',\n",
       " 'http://www.baseball-reference.com/games/standings.cgi?year=2013&month=9&day=1&submit=Submit+Date',\n",
       " 'http://www.baseball-reference.com/games/standings.cgi?year=2014&month=4&day=1&submit=Submit+Date',\n",
       " 'http://www.baseball-reference.com/games/standings.cgi?year=2014&month=5&day=1&submit=Submit+Date',\n",
       " 'http://www.baseball-reference.com/games/standings.cgi?year=2014&month=6&day=1&submit=Submit+Date',\n",
       " 'http://www.baseball-reference.com/games/standings.cgi?year=2014&month=7&day=1&submit=Submit+Date',\n",
       " 'http://www.baseball-reference.com/games/standings.cgi?year=2014&month=8&day=1&submit=Submit+Date',\n",
       " 'http://www.baseball-reference.com/games/standings.cgi?year=2014&month=9&day=1&submit=Submit+Date',\n",
       " 'http://www.baseball-reference.com/games/standings.cgi?year=2015&month=4&day=1&submit=Submit+Date',\n",
       " 'http://www.baseball-reference.com/games/standings.cgi?year=2015&month=5&day=1&submit=Submit+Date',\n",
       " 'http://www.baseball-reference.com/games/standings.cgi?year=2015&month=6&day=1&submit=Submit+Date',\n",
       " 'http://www.baseball-reference.com/games/standings.cgi?year=2015&month=7&day=1&submit=Submit+Date',\n",
       " 'http://www.baseball-reference.com/games/standings.cgi?year=2015&month=8&day=1&submit=Submit+Date',\n",
       " 'http://www.baseball-reference.com/games/standings.cgi?year=2015&month=9&day=1&submit=Submit+Date',\n",
       " 'http://www.baseball-reference.com/games/standings.cgi?year=2016&month=4&day=1&submit=Submit+Date',\n",
       " 'http://www.baseball-reference.com/games/standings.cgi?year=2016&month=5&day=1&submit=Submit+Date',\n",
       " 'http://www.baseball-reference.com/games/standings.cgi?year=2016&month=6&day=1&submit=Submit+Date',\n",
       " 'http://www.baseball-reference.com/games/standings.cgi?year=2016&month=7&day=1&submit=Submit+Date',\n",
       " 'http://www.baseball-reference.com/games/standings.cgi?year=2016&month=8&day=1&submit=Submit+Date',\n",
       " 'http://www.baseball-reference.com/games/standings.cgi?year=2016&month=9&day=1&submit=Submit+Date']"
      ]
     },
     "execution_count": 3,
     "metadata": {},
     "output_type": "execute_result"
    }
   ],
   "source": [
    "years = ['2012', '2013', '2014', '2015', '2016']\n",
    "months = ['4', '5', '6', '7', '8', '9']\n",
    "basic_url = 'http://www.baseball-reference.com/games/standings.cgi?year='\n",
    "\n",
    "def url_generator(year, month):\n",
    "    urls = []    \n",
    "    for year in years:\n",
    "        for month in months:\n",
    "            url = basic_url+year+'&month='+month+'&day=1&submit=Submit+Date'\n",
    "            urls.append(url)\n",
    "    print(urls)\n",
    "    return urls\n",
    "\n",
    "url_generator(years, months)"
   ]
  },
  {
   "cell_type": "raw",
   "metadata": {},
   "source": [
    "b"
   ]
  },
  {
   "cell_type": "code",
   "execution_count": null,
   "metadata": {
    "collapsed": true
   },
   "outputs": [],
   "source": []
  },
  {
   "cell_type": "code",
   "execution_count": 6,
   "metadata": {
    "collapsed": true
   },
   "outputs": [],
   "source": [
    "import pandas as pd"
   ]
  },
  {
   "cell_type": "code",
   "execution_count": 7,
   "metadata": {
    "collapsed": false,
    "scrolled": true
   },
   "outputs": [],
   "source": [
    "standings = pd.read_html('http://www.baseball-reference.com/games/standings.cgi?year=2012&month=4&day=1&submit=Submit+Date', attrs={'class': 'table_heading' '><h3>AL  Overall\n",
    "        \n",
    "        'class':\"sortable stats_table\"})[0]"
   ]
  },
  {
   "cell_type": "code",
   "execution_count": 8,
   "metadata": {
    "collapsed": false
   },
   "outputs": [
    {
     "name": "stdout",
     "output_type": "stream",
     "text": [
      "    Tm  W  L  W-L%  GB  RS  RA  pythW-L%\n",
      "0  BAL  0  0   0.0  --   0   0       NaN\n",
      "1  TBR  0  0   0.0  --   0   0       NaN\n",
      "2  TOR  0  0   0.0  --   0   0       NaN\n",
      "3  NYY  0  0   0.0  --   0   0       NaN\n",
      "4  BOS  0  0   0.0  --   0   0       NaN\n"
     ]
    }
   ],
   "source": [
    "print standings"
   ]
  },
  {
   "cell_type": "code",
   "execution_count": null,
   "metadata": {
    "collapsed": true
   },
   "outputs": [],
   "source": [
    "\n",
    "<div class=\"table_heading\"><h3>AL  Overall</h3>\n",
    "</div><table class=\"sortable  stats_table\">\n",
    "\n",
    "standings = pd.read_html('http://www.baseball-reference.com/games/standings.cgi?year=2012&month=4&day=1&submit=Submit+Date', attrs={'class':\"sortable stats_table\"})[0]\n",
    "\n",
    "\n",
    "\n",
    "<colgroup><col><col><col><col><col><col><col><col></colgroup>\n",
    "<thead>\n",
    "<tr class=\"\">\n",
    "  <th data-stat=\"team_ID\" class=\"tooltip sort_default_asc show_partial_when_sorting\" align=\"center\">Tm</th>\n",
    "  <th data-stat=\"W\" class=\"tooltip\" tip=\"Wins\" data-filter=\"1\" data-name=\"Wins\" align=\"center\">W</th>\n",
    "  <th data-stat=\"L\" class=\"tooltip\" tip=\"Losses\" data-filter=\"1\" data-name=\"Losses\" align=\"center\">L</th>\n",
    "  <th data-stat=\"win_loss_perc\" class=\"tooltip hide_non_quals\" tip=\"<strong>Win-Loss Percentage</strong><br>W / (W + L)<br>For players, leaders need one decision for every ten team games.<br>For managers, minimum to qualify for leading is 320 games.\" data-filter=\"1\" data-name=\"Win-Loss %\" align=\"center\"><nobr>W-L%</nobr></th>\n",
    "  <th data-stat=\"games_back\" class=\"tooltip sort_default_asc\" tip=\"<strong>Games Back of Division/League Leader</strong><br>Computed as games over .500 of leader (W-L) minus games over .500 of team divided by two.<br>Typically computed at the end of play for a particular day.<br>Blank for 1st game of DH.\" align=\"center\">GB</th>\n",
    "  <th data-stat=\"RS\" class=\"tooltip\" tip=\"Runs Scored\" data-filter=\"1\" data-name=\"Runs Scored\" align=\"center\">RS</th>\n",
    "  <th data-stat=\"RA\" class=\"tooltip\" tip=\"Runs Allowed\" data-filter=\"1\" data-name=\"Runs Allowed\" align=\"center\">RA</th>\n",
    "  <th data-stat=\"win_loss_perc_pythag\" class=\"tooltip\" tip=\"<strong>Pythagorean Win-Loss Percentage</strong><br>This value is an estimate of the teams win-loss percentage<br>based on the runs scored and runs allowed by this team.\" data-filter=\"1\" data-name=\"PythW-L%\" align=\"center\"><span class=\"nowrap\">pythW-L%</span></th>\n",
    "</tr>\n",
    "</thead>\n",
    "<tbody>\n",
    "<tr class=\"\" data-row=\"0\">\n",
    "   <td align=\"left\"><a href=\"/teams/OAK/2012.shtml\">OAK</a></td>\n",
    "   <td align=\"right\">1</td>\n",
    "   <td align=\"right\">1</td>\n",
    "   <td align=\"right\">.500</td>\n",
    "   <td align=\"right\">--</td>\n",
    "   <td align=\"right\">5</td>\n",
    "   <td align=\"right\">4</td>\n",
    "   <td align=\"right\">.601</td>\n",
    "</tr>\n",
    "<tr class=\"\" data-row=\"1\">\n",
    "   <td align=\"left\"><a href=\"/teams/SEA/2012.shtml\">SEA</a></td>\n",
    "   <td align=\"right\">1</td>\n",
    "   <td align=\"right\">1</td>\n",
    "   <td align=\"right\">.500</td>\n",
    "   <td align=\"right\">--</td>\n",
    "   <td align=\"right\">4</td>\n",
    "   <td align=\"right\">5</td>\n",
    "   <td align=\"right\">.399</td>\n",
    "</tr>\n",
    "<tr class=\"\" data-row=\"2\">\n",
    "   <td align=\"left\"><a href=\"/teams/MIN/2012.shtml\">MIN</a></td>\n",
    "   <td align=\"right\">0</td>\n",
    "   <td align=\"right\">0</td>\n",
    "   <td align=\"right\">.000</td>\n",
    "   <td align=\"right\">--</td>\n",
    "   <td align=\"right\">0</td>\n",
    "   <td align=\"right\">0</td>\n",
    "   <td align=\"right\"></td>\n",
    "</tr>\n",
    "<tr class=\"\" data-row=\"3\">\n",
    "   <td align=\"left\"><a href=\"/teams/BAL/2012.shtml\">BAL</a></td>\n",
    "   <td align=\"right\">0</td>\n",
    "   <td align=\"right\">0</td>\n",
    "   <td align=\"right\">.000</td>\n",
    "   <td align=\"right\">--</td>\n",
    "   <td align=\"right\">0</td>\n",
    "   <td align=\"right\">0</td>\n",
    "   <td align=\"right\"></td>\n",
    "</tr>\n",
    "<tr class=\"\" data-row=\"4\">\n",
    "   <td align=\"left\"><a href=\"/teams/CHW/2012.shtml\">CHW</a></td>\n",
    "   <td align=\"right\">0</td>\n",
    "   <td align=\"right\">0</td>\n",
    "   <td align=\"right\">.000</td>\n",
    "   <td align=\"right\">--</td>\n",
    "   <td align=\"right\">0</td>\n",
    "   <td align=\"right\">0</td>\n",
    "   <td align=\"right\"></td>\n",
    "</tr>\n",
    "<tr class=\"\" data-row=\"5\">\n",
    "   <td align=\"left\"><a href=\"/teams/TBR/2012.shtml\">TBR</a></td>\n",
    "   <td align=\"right\">0</td>\n",
    "   <td align=\"right\">0</td>\n",
    "   <td align=\"right\">.000</td>\n",
    "   <td align=\"right\">--</td>\n",
    "   <td align=\"right\">0</td>\n",
    "   <td align=\"right\">0</td>\n",
    "   <td align=\"right\"></td>\n",
    "</tr>\n",
    "<tr class=\"\" data-row=\"6\">\n",
    "   <td align=\"left\"><a href=\"/teams/DET/2012.shtml\">DET</a></td>\n",
    "   <td align=\"right\">0</td>\n",
    "   <td align=\"right\">0</td>\n",
    "   <td align=\"right\">.000</td>\n",
    "   <td align=\"right\">--</td>\n",
    "   <td align=\"right\">0</td>\n",
    "   <td align=\"right\">0</td>\n",
    "   <td align=\"right\"></td>\n",
    "</tr>\n",
    "<tr class=\"\" data-row=\"7\">\n",
    "   <td align=\"left\"><a href=\"/teams/TOR/2012.shtml\">TOR</a></td>\n",
    "   <td align=\"right\">0</td>\n",
    "   <td align=\"right\">0</td>\n",
    "   <td align=\"right\">.000</td>\n",
    "   <td align=\"right\">--</td>\n",
    "   <td align=\"right\">0</td>\n",
    "   <td align=\"right\">0</td>\n",
    "   <td align=\"right\"></td>\n",
    "</tr>\n",
    "<tr class=\"\" data-row=\"8\">\n",
    "   <td align=\"left\"><a href=\"/teams/LAA/2012.shtml\">LAA</a></td>\n",
    "   <td align=\"right\">0</td>\n",
    "   <td align=\"right\">0</td>\n",
    "   <td align=\"right\">.000</td>\n",
    "   <td align=\"right\">--</td>\n",
    "   <td align=\"right\">0</td>\n",
    "   <td align=\"right\">0</td>\n",
    "   <td align=\"right\"></td>\n",
    "</tr>\n",
    "<tr class=\"\" data-row=\"9\">\n",
    "   <td align=\"left\"><a href=\"/teams/NYY/2012.shtml\">NYY</a></td>\n",
    "   <td align=\"right\">0</td>\n",
    "   <td align=\"right\">0</td>\n",
    "   <td align=\"right\">.000</td>\n",
    "   <td align=\"right\">--</td>\n",
    "   <td align=\"right\">0</td>\n",
    "   <td align=\"right\">0</td>\n",
    "   <td align=\"right\"></td>\n",
    "</tr>\n",
    "<tr class=\"\" data-row=\"10\">\n",
    "   <td align=\"left\"><a href=\"/teams/BOS/2012.shtml\">BOS</a></td>\n",
    "   <td align=\"right\">0</td>\n",
    "   <td align=\"right\">0</td>\n",
    "   <td align=\"right\">.000</td>\n",
    "   <td align=\"right\">--</td>\n",
    "   <td align=\"right\">0</td>\n",
    "   <td align=\"right\">0</td>\n",
    "   <td align=\"right\"></td>\n",
    "</tr>\n",
    "<tr class=\"\" data-row=\"11\">\n",
    "   <td align=\"left\"><a href=\"/teams/CLE/2012.shtml\">CLE</a></td>\n",
    "   <td align=\"right\">0</td>\n",
    "   <td align=\"right\">0</td>\n",
    "   <td align=\"right\">.000</td>\n",
    "   <td align=\"right\">--</td>\n",
    "   <td align=\"right\">0</td>\n",
    "   <td align=\"right\">0</td>\n",
    "   <td align=\"right\"></td>\n",
    "</tr>\n",
    "<tr class=\"\" data-row=\"12\">\n",
    "   <td align=\"left\"><a href=\"/teams/TEX/2012.shtml\">TEX</a></td>\n",
    "   <td align=\"right\">0</td>\n",
    "   <td align=\"right\">0</td>\n",
    "   <td align=\"right\">.000</td>\n",
    "   <td align=\"right\">--</td>\n",
    "   <td align=\"right\">0</td>\n",
    "   <td align=\"right\">0</td>\n",
    "   <td align=\"right\"></td>\n",
    "</tr>\n",
    "<tr class=\"\" data-row=\"13\">\n",
    "   <td align=\"left\"><a href=\"/teams/KCR/2012.shtml\">KCR</a></td>\n",
    "   <td align=\"right\">0</td>\n",
    "   <td align=\"right\">0</td>\n",
    "   <td align=\"right\">.000</td>\n",
    "   <td align=\"right\">--</td>\n",
    "   <td align=\"right\">0</td>\n",
    "   <td align=\"right\">0</td>\n",
    "   <td align=\"right\"></td>\n",
    "</tr>\n",
    "</tbody>\n",
    "<tfoot></tfoot></table>\n"
   ]
  }
 ],
 "metadata": {
  "anaconda-cloud": {},
  "kernelspec": {
   "display_name": "Python [Root]",
   "language": "python",
   "name": "Python [Root]"
  },
  "language_info": {
   "codemirror_mode": {
    "name": "ipython",
    "version": 2
   },
   "file_extension": ".py",
   "mimetype": "text/x-python",
   "name": "python",
   "nbconvert_exporter": "python",
   "pygments_lexer": "ipython2",
   "version": "2.7.11"
  }
 },
 "nbformat": 4,
 "nbformat_minor": 0
}
