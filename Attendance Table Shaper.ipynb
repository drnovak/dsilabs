{
 "cells": [
  {
   "cell_type": "code",
   "execution_count": 1,
   "metadata": {
    "collapsed": true
   },
   "outputs": [],
   "source": [
    "import pandas as pd"
   ]
  },
  {
   "cell_type": "code",
   "execution_count": 2,
   "metadata": {
    "collapsed": false
   },
   "outputs": [
    {
     "data": {
      "text/plain": [
       "u'/Users/DRN/capstone/jupyternotebooks'"
      ]
     },
     "execution_count": 2,
     "metadata": {},
     "output_type": "execute_result"
    }
   ],
   "source": [
    "pwd"
   ]
  },
  {
   "cell_type": "code",
   "execution_count": 4,
   "metadata": {
    "collapsed": false
   },
   "outputs": [],
   "source": [
    "annual_attendance = pd.read_csv('../rawfiles/attendance/2015attendance.csv',\n",
    "                                usecols=['Tm', 'Attendance', 'Attend/G', 'BatAge', 'PAge', 'BPF', 'PPF',\n",
    "                                        '#A-S', '#a-tA-S', 'Est. Payroll'],\n",
    "                                dtype={'Attendance': float, 'Attend/G': float, 'BPF': float, 'PPF': float,\n",
    "                                      'Est.Payroll': float})"
   ]
  },
  {
   "cell_type": "code",
   "execution_count": 5,
   "metadata": {
    "collapsed": false
   },
   "outputs": [
    {
     "data": {
      "text/html": [
       "<div>\n",
       "<table border=\"1\" class=\"dataframe\">\n",
       "  <thead>\n",
       "    <tr style=\"text-align: right;\">\n",
       "      <th></th>\n",
       "      <th>Tm</th>\n",
       "      <th>Attendance</th>\n",
       "      <th>Attend/G</th>\n",
       "      <th>BatAge</th>\n",
       "      <th>PAge</th>\n",
       "      <th>BPF</th>\n",
       "      <th>PPF</th>\n",
       "      <th>#A-S</th>\n",
       "      <th>#a-tA-S</th>\n",
       "      <th>Est. Payroll</th>\n",
       "    </tr>\n",
       "  </thead>\n",
       "  <tbody>\n",
       "    <tr>\n",
       "      <th>0</th>\n",
       "      <td>ARI</td>\n",
       "      <td>2080145.0</td>\n",
       "      <td>25681.0</td>\n",
       "      <td>26.6</td>\n",
       "      <td>27.1</td>\n",
       "      <td>105.0</td>\n",
       "      <td>105.0</td>\n",
       "      <td>2</td>\n",
       "      <td>5</td>\n",
       "      <td>$64434000</td>\n",
       "    </tr>\n",
       "    <tr>\n",
       "      <th>1</th>\n",
       "      <td>ATL</td>\n",
       "      <td>2001392.0</td>\n",
       "      <td>24709.0</td>\n",
       "      <td>28.8</td>\n",
       "      <td>26.6</td>\n",
       "      <td>97.0</td>\n",
       "      <td>98.0</td>\n",
       "      <td>1</td>\n",
       "      <td>10</td>\n",
       "      <td>$104037500</td>\n",
       "    </tr>\n",
       "    <tr>\n",
       "      <th>2</th>\n",
       "      <td>BAL</td>\n",
       "      <td>2281202.0</td>\n",
       "      <td>29246.0</td>\n",
       "      <td>27.9</td>\n",
       "      <td>28.3</td>\n",
       "      <td>102.0</td>\n",
       "      <td>102.0</td>\n",
       "      <td>4</td>\n",
       "      <td>11</td>\n",
       "      <td>$112989833</td>\n",
       "    </tr>\n",
       "    <tr>\n",
       "      <th>3</th>\n",
       "      <td>BOS</td>\n",
       "      <td>2880694.0</td>\n",
       "      <td>35564.0</td>\n",
       "      <td>28.4</td>\n",
       "      <td>28.6</td>\n",
       "      <td>107.0</td>\n",
       "      <td>107.0</td>\n",
       "      <td>1</td>\n",
       "      <td>19</td>\n",
       "      <td>$183931900</td>\n",
       "    </tr>\n",
       "    <tr>\n",
       "      <th>4</th>\n",
       "      <td>CHC</td>\n",
       "      <td>2919122.0</td>\n",
       "      <td>36039.0</td>\n",
       "      <td>26.9</td>\n",
       "      <td>29.3</td>\n",
       "      <td>98.0</td>\n",
       "      <td>97.0</td>\n",
       "      <td>2</td>\n",
       "      <td>14</td>\n",
       "      <td>$115306610</td>\n",
       "    </tr>\n",
       "  </tbody>\n",
       "</table>\n",
       "</div>"
      ],
      "text/plain": [
       "    Tm  Attendance  Attend/G  BatAge  PAge    BPF    PPF  #A-S  #a-tA-S  \\\n",
       "0  ARI   2080145.0   25681.0    26.6  27.1  105.0  105.0     2        5   \n",
       "1  ATL   2001392.0   24709.0    28.8  26.6   97.0   98.0     1       10   \n",
       "2  BAL   2281202.0   29246.0    27.9  28.3  102.0  102.0     4       11   \n",
       "3  BOS   2880694.0   35564.0    28.4  28.6  107.0  107.0     1       19   \n",
       "4  CHC   2919122.0   36039.0    26.9  29.3   98.0   97.0     2       14   \n",
       "\n",
       "  Est. Payroll  \n",
       "0    $64434000  \n",
       "1   $104037500  \n",
       "2   $112989833  \n",
       "3   $183931900  \n",
       "4   $115306610  "
      ]
     },
     "execution_count": 5,
     "metadata": {},
     "output_type": "execute_result"
    }
   ],
   "source": [
    "annual_attendance.head()"
   ]
  },
  {
   "cell_type": "code",
   "execution_count": 6,
   "metadata": {
    "collapsed": false,
    "scrolled": true
   },
   "outputs": [
    {
     "data": {
      "text/plain": [
       "Tm               object\n",
       "Attendance      float64\n",
       "Attend/G        float64\n",
       "BatAge          float64\n",
       "PAge            float64\n",
       "BPF             float64\n",
       "PPF             float64\n",
       "#A-S              int64\n",
       "#a-tA-S           int64\n",
       "Est. Payroll     object\n",
       "dtype: object"
      ]
     },
     "execution_count": 6,
     "metadata": {},
     "output_type": "execute_result"
    }
   ],
   "source": [
    "annual_attendance.dtypes"
   ]
  },
  {
   "cell_type": "code",
   "execution_count": 11,
   "metadata": {
    "collapsed": true
   },
   "outputs": [],
   "source": [
    "annual_attendance.rename(columns={'Tm': 'team', 'Attendance': 'attend', 'Attend/G': 'attend_per_game', \n",
    "                                  'BatAge': 'bat_age', 'PAge': 'pit_age', 'BPF': 'bpf', 'PPF': 'ppf', '#A-S': 'allstars',\n",
    "                                  '#a-tA-S': 'total_allstars', 'Est. Payroll': 'payroll_2015'}, inplace=True)"
   ]
  },
  {
   "cell_type": "code",
   "execution_count": 12,
   "metadata": {
    "collapsed": false
   },
   "outputs": [
    {
     "data": {
      "text/html": [
       "<div>\n",
       "<table border=\"1\" class=\"dataframe\">\n",
       "  <thead>\n",
       "    <tr style=\"text-align: right;\">\n",
       "      <th></th>\n",
       "      <th>team</th>\n",
       "      <th>attend</th>\n",
       "      <th>attend_per_game</th>\n",
       "      <th>bat_age</th>\n",
       "      <th>pit_age</th>\n",
       "      <th>bpf</th>\n",
       "      <th>ppf</th>\n",
       "      <th>allstars</th>\n",
       "      <th>total_allstars</th>\n",
       "      <th>payroll_2015</th>\n",
       "    </tr>\n",
       "  </thead>\n",
       "  <tbody>\n",
       "    <tr>\n",
       "      <th>0</th>\n",
       "      <td>ARI</td>\n",
       "      <td>2080145.0</td>\n",
       "      <td>25681.0</td>\n",
       "      <td>26.6</td>\n",
       "      <td>27.1</td>\n",
       "      <td>105.0</td>\n",
       "      <td>105.0</td>\n",
       "      <td>2</td>\n",
       "      <td>5</td>\n",
       "      <td>$64434000</td>\n",
       "    </tr>\n",
       "    <tr>\n",
       "      <th>1</th>\n",
       "      <td>ATL</td>\n",
       "      <td>2001392.0</td>\n",
       "      <td>24709.0</td>\n",
       "      <td>28.8</td>\n",
       "      <td>26.6</td>\n",
       "      <td>97.0</td>\n",
       "      <td>98.0</td>\n",
       "      <td>1</td>\n",
       "      <td>10</td>\n",
       "      <td>$104037500</td>\n",
       "    </tr>\n",
       "  </tbody>\n",
       "</table>\n",
       "</div>"
      ],
      "text/plain": [
       "  team     attend  attend_per_game  bat_age  pit_age    bpf    ppf  allstars  \\\n",
       "0  ARI  2080145.0          25681.0     26.6     27.1  105.0  105.0         2   \n",
       "1  ATL  2001392.0          24709.0     28.8     26.6   97.0   98.0         1   \n",
       "\n",
       "   total_allstars payroll_2015  \n",
       "0               5    $64434000  \n",
       "1              10   $104037500  "
      ]
     },
     "execution_count": 12,
     "metadata": {},
     "output_type": "execute_result"
    }
   ],
   "source": [
    "annual_attendance.head(2)"
   ]
  },
  {
   "cell_type": "code",
   "execution_count": 13,
   "metadata": {
    "collapsed": false
   },
   "outputs": [],
   "source": [
    "annual_attendance['payroll_2015'] = annual_attendance.payroll_2015.str.replace('$', '').astype(float)"
   ]
  },
  {
   "cell_type": "code",
   "execution_count": 14,
   "metadata": {
    "collapsed": false,
    "scrolled": true
   },
   "outputs": [
    {
     "data": {
      "text/html": [
       "<div>\n",
       "<table border=\"1\" class=\"dataframe\">\n",
       "  <thead>\n",
       "    <tr style=\"text-align: right;\">\n",
       "      <th></th>\n",
       "      <th>team</th>\n",
       "      <th>attend</th>\n",
       "      <th>attend_per_game</th>\n",
       "      <th>bat_age</th>\n",
       "      <th>pit_age</th>\n",
       "      <th>bpf</th>\n",
       "      <th>ppf</th>\n",
       "      <th>allstars</th>\n",
       "      <th>total_allstars</th>\n",
       "      <th>payroll_2015</th>\n",
       "    </tr>\n",
       "  </thead>\n",
       "  <tbody>\n",
       "    <tr>\n",
       "      <th>0</th>\n",
       "      <td>ARI</td>\n",
       "      <td>2080145.0</td>\n",
       "      <td>25681.0</td>\n",
       "      <td>26.6</td>\n",
       "      <td>27.1</td>\n",
       "      <td>105.0</td>\n",
       "      <td>105.0</td>\n",
       "      <td>2</td>\n",
       "      <td>5</td>\n",
       "      <td>64434000.0</td>\n",
       "    </tr>\n",
       "    <tr>\n",
       "      <th>1</th>\n",
       "      <td>ATL</td>\n",
       "      <td>2001392.0</td>\n",
       "      <td>24709.0</td>\n",
       "      <td>28.8</td>\n",
       "      <td>26.6</td>\n",
       "      <td>97.0</td>\n",
       "      <td>98.0</td>\n",
       "      <td>1</td>\n",
       "      <td>10</td>\n",
       "      <td>104037500.0</td>\n",
       "    </tr>\n",
       "  </tbody>\n",
       "</table>\n",
       "</div>"
      ],
      "text/plain": [
       "  team     attend  attend_per_game  bat_age  pit_age    bpf    ppf  allstars  \\\n",
       "0  ARI  2080145.0          25681.0     26.6     27.1  105.0  105.0         2   \n",
       "1  ATL  2001392.0          24709.0     28.8     26.6   97.0   98.0         1   \n",
       "\n",
       "   total_allstars  payroll_2015  \n",
       "0               5    64434000.0  \n",
       "1              10   104037500.0  "
      ]
     },
     "execution_count": 14,
     "metadata": {},
     "output_type": "execute_result"
    }
   ],
   "source": [
    "annual_attendance.head(2)"
   ]
  },
  {
   "cell_type": "code",
   "execution_count": 15,
   "metadata": {
    "collapsed": true
   },
   "outputs": [],
   "source": [
    "teamzipper = dict(zip(['BOS', 'ARI', 'BAL', 'PHI', 'NYM', 'CHC', 'MIN', 'ATL', 'SFG', 'TEX', 'SDP', 'OAK','TBR', \n",
    "                'COL', 'WSN','KCR', 'TOR', 'NYY', 'MIA', 'DET', 'STL','PIT', 'CHW', 'MIL', 'CIN', 'HOU', \n",
    "                'CLE', 'LAD', 'LAA','SEA'], range(0,31)))"
   ]
  },
  {
   "cell_type": "code",
   "execution_count": 17,
   "metadata": {
    "collapsed": false
   },
   "outputs": [],
   "source": [
    "for row in [\"team\"]:\n",
    "    annual_attendance[row] = annual_attendance[row].apply(lambda x: teamzipper[x])"
   ]
  },
  {
   "cell_type": "code",
   "execution_count": 21,
   "metadata": {
    "collapsed": true
   },
   "outputs": [],
   "source": [
    "annual_attendance.to_csv('annual_attendance_2015.csv', sep='\\t', encoding='utf-8')"
   ]
  },
  {
   "cell_type": "code",
   "execution_count": null,
   "metadata": {
    "collapsed": true
   },
   "outputs": [],
   "source": []
  }
 ],
 "metadata": {
  "anaconda-cloud": {},
  "kernelspec": {
   "display_name": "Python [Root]",
   "language": "python",
   "name": "Python [Root]"
  },
  "language_info": {
   "codemirror_mode": {
    "name": "ipython",
    "version": 2
   },
   "file_extension": ".py",
   "mimetype": "text/x-python",
   "name": "python",
   "nbconvert_exporter": "python",
   "pygments_lexer": "ipython2",
   "version": "2.7.11"
  }
 },
 "nbformat": 4,
 "nbformat_minor": 0
}
