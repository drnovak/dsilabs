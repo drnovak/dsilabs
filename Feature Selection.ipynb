{
 "cells": [
  {
   "cell_type": "code",
   "execution_count": null,
   "metadata": {
    "collapsed": true
   },
   "outputs": [],
   "source": [
    "import pandas as pd\n",
    "import matplotlib.pyplot as plt\n",
    "import numpy as np\n",
    "from sklearn import linear_model\n",
    "import seaborn as sns\n",
    "%matplotlib inline"
   ]
  },
  {
   "cell_type": "code",
   "execution_count": null,
   "metadata": {
    "collapsed": true
   },
   "outputs": [],
   "source": [
    "annual_attendance = pd.read_csv('annual_attendance_2015.csv', sep='\\t', index_col=0, encoding='utf-8')\n",
    "home_games = pd.read_csv('home_games_2015.csv', sep='\\t',index_col=0,  encoding='utf-8')\n",
    "fci = pd.read_csv('fci2015.csv', sep='\\t', index_col=0, encoding='utf-8')\n",
    "google = pd.read_csv('google_interest_2015.csv', sep='\\t', index_col=0, encoding='utf-8')\n",
    "final_standings = pd.read_csv('standings_2015.csv', sep='\\t', index_col=0, encoding='utf-8')"
   ]
  },
  {
   "cell_type": "code",
   "execution_count": null,
   "metadata": {
    "collapsed": true
   },
   "outputs": [],
   "source": [
    "# 'ARI': 1,\n",
    "# 'ATL': 7,\n",
    "# 'BAL': 2,\n",
    "# 'BOS': 0,\n",
    "# 'CHC': 5,\n",
    "# 'CHW': 22,\n",
    "# 'CIN': 24,\n",
    "# 'CLE': 26,\n",
    "# 'COL': 13,\n",
    "# 'DET': 19,\n",
    "# 'HOU': 25,\n",
    "# 'KCR': 15,\n",
    "# 'LAA': 28,\n",
    "# 'LAD': 27,\n",
    "# 'MIA': 18,\n",
    "# 'MIL': 23,\n",
    "# 'MIN': 6,\n",
    "# 'NYM': 4,\n",
    "# 'NYY': 17,\n",
    "# 'OAK': 11,\n",
    "# 'PHI': 3,\n",
    "# 'PIT': 21,\n",
    "# 'SDP': 10,\n",
    "# 'SEA': 29,\n",
    "# 'SFG': 8,\n",
    "# 'STL': 20,\n",
    "# 'TBR': 12,\n",
    "# 'TEX': 9,\n",
    "# 'TOR': 16,\n",
    "# 'WSN': 14"
   ]
  },
  {
   "cell_type": "code",
   "execution_count": null,
   "metadata": {
    "collapsed": true
   },
   "outputs": [],
   "source": [
    "google['week'] =  pd.to_datetime(google['week'], format='%Y-%m-%d')\n",
    "home_games['date'] = pd.to_datetime(home_games['date'], format='%Y-%m-%d')"
   ]
  },
  {
   "cell_type": "code",
   "execution_count": null,
   "metadata": {
    "collapsed": true
   },
   "outputs": [],
   "source": [
    "#Testing one variable at a time\n",
    "\n",
    "Xs = ['game_time', 'games_back', 'losses_x', 'night_game', 'opp', 'runs_against', 'runs_scored', 'streak', \n",
    "      'team', 'win', 'wins_x', 'avg_ticket', 'pct_change', 'avg_prem_ticket', 'beer', 'beer_oz', 'soft_drink', \n",
    "      'soft_drink_oz', 'hot_dog', 'parking', 'hat', 'fci','fci_pct_change', 'bat_age', 'pit_age', 'bpf', 'ppf', \n",
    "      'allstars', 'total_allstars', 'payroll_2015', 'wins_y', 'losses_y', 'win_loss', 'runs', 'runs_allowed', \n",
    "      'run_differential', 'home_success', 'road_success', 'vs_over_500', 'vs_under_500']\n",
    "\n",
    "for i in range(len(Xs)):\n",
    "    y = df['attendance'].values\n",
    "    X = df[Xs[i]].values.reshape(-1, 1)\n",
    "\n",
    "    lm = linear_model.LinearRegression()\n",
    "    model = lm.fit(X, y)\n",
    "    predictions = model.predict(X)\n",
    "\n",
    "    plt.scatter(y, predictions)\n",
    "    plt.xlabel(\"Values\")\n",
    "    plt.ylabel(\"Predictions\")\n",
    "    plt.show()\n",
    "    print 'Score for ', Xs[i], 'is: ', model.score(X, y)\n",
    "    print ''"
   ]
  },
  {
   "cell_type": "code",
   "execution_count": null,
   "metadata": {
    "collapsed": true
   },
   "outputs": [],
   "source": [
    "from sklearn.feature_selection import SelectKBest, f_classif\n",
    "\n",
    "predictors = ['game_time', 'games_back', 'losses_x', 'night_game', 'opp', 'runs_against', 'runs_scored', \n",
    "           'streak', 'team', 'win', 'wins_x', 'avg_ticket', 'pct_change', 'avg_prem_ticket', 'beer', \n",
    "           'beer_oz', 'soft_drink', 'soft_drink_oz', 'hot_dog', 'parking', 'hat', 'fci','fci_pct_change',\n",
    "            'bat_age', 'pit_age', 'bpf', 'ppf', 'allstars', 'total_allstars','payroll_2015', 'wins_y', \n",
    "              'losses_y', 'win_loss', 'runs', 'runs_allowed', 'run_differential','home_success', \n",
    "              'road_success', 'vs_over_500', 'vs_under_500']\n",
    "\n",
    "# Perform feature selection\n",
    "selector = SelectKBest(f_classif, k=5)\n",
    "selector.fit(df[predictors], df['attendance'])\n",
    "\n",
    "# Get the raw p-values for each feature, and transform from p-values into scores\n",
    "scores = -np.log10(selector.pvalues_)\n",
    "\n",
    "plt.bar(range(len(predictors)), scores)\n",
    "plt.xticks(range(len(predictors)), predictors, rotation='vertical')\n",
    "plt.show()"
   ]
  },
  {
   "cell_type": "code",
   "execution_count": null,
   "metadata": {
    "collapsed": true
   },
   "outputs": [],
   "source": []
  },
  {
   "cell_type": "code",
   "execution_count": null,
   "metadata": {
    "collapsed": true
   },
   "outputs": [],
   "source": []
  },
  {
   "cell_type": "code",
   "execution_count": null,
   "metadata": {
    "collapsed": true
   },
   "outputs": [],
   "source": []
  },
  {
   "cell_type": "code",
   "execution_count": null,
   "metadata": {
    "collapsed": true
   },
   "outputs": [],
   "source": []
  },
  {
   "cell_type": "code",
   "execution_count": null,
   "metadata": {
    "collapsed": true
   },
   "outputs": [],
   "source": []
  }
 ],
 "metadata": {
  "anaconda-cloud": {},
  "kernelspec": {
   "display_name": "Python [Root]",
   "language": "python",
   "name": "Python [Root]"
  },
  "language_info": {
   "codemirror_mode": {
    "name": "ipython",
    "version": 2
   },
   "file_extension": ".py",
   "mimetype": "text/x-python",
   "name": "python",
   "nbconvert_exporter": "python",
   "pygments_lexer": "ipython2",
   "version": "2.7.11"
  }
 },
 "nbformat": 4,
 "nbformat_minor": 0
}
